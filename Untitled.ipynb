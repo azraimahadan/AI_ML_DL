{
 "cells": [
  {
   "cell_type": "code",
   "execution_count": 2,
   "id": "9bcef06e",
   "metadata": {},
   "outputs": [
    {
     "name": "stdout",
     "output_type": "stream",
     "text": [
      "Input num: 11\n",
      "0 1 1 2 3 5 8 13 21 34 55 "
     ]
    }
   ],
   "source": [
    "a =int(input(\"Input num: \"))\n",
    "f = 0\n",
    "s =1\n",
    "if a<=0:\n",
    "    print(f)\n",
    "else:\n",
    "    print(f, s,end=\" \")\n",
    "    for x in range(2,a):\n",
    "        next = f+s\n",
    "        print(next, end=\" \")\n",
    "        f=s\n",
    "        s=next"
   ]
  },
  {
   "cell_type": "code",
   "execution_count": null,
   "id": "4a947718",
   "metadata": {},
   "outputs": [],
   "source": []
  }
 ],
 "metadata": {
  "kernelspec": {
   "display_name": "Python 3 (ipykernel)",
   "language": "python",
   "name": "python3"
  },
  "language_info": {
   "codemirror_mode": {
    "name": "ipython",
    "version": 3
   },
   "file_extension": ".py",
   "mimetype": "text/x-python",
   "name": "python",
   "nbconvert_exporter": "python",
   "pygments_lexer": "ipython3",
   "version": "3.9.7"
  }
 },
 "nbformat": 4,
 "nbformat_minor": 5
}
