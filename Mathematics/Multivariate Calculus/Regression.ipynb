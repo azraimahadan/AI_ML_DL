{
 "cells": [
  {
   "cell_type": "markdown",
   "metadata": {},
   "source": [
    "**Linear regression function**"
   ]
  },
  {
   "cell_type": "code",
   "execution_count": null,
   "metadata": {},
   "outputs": [],
   "source": [
    "# Here the function is defined\n",
    "def linfit(xdat,ydat):\n",
    "  # Here xbar and ybar are calculated\n",
    "  xbar = np.sum(xdat)/len(xdat)\n",
    "  ybar = np.sum(ydat)/len(ydat)\n",
    "\n",
    "  # Insert calculation of m and c here. If nothing is here the data will be plotted with no linear fit\n",
    "  m = np.sum((xdat-xbar)*ydat)/np.sum((xdat-xbar)**2)\n",
    "  c = ybar - m*xbar\n",
    "  # Return your values as [m, c]\n",
    "  return [m, c]\n",
    "\n",
    "# Produce the plot - don't put this in the next code block\n",
    "line()"
   ]
  },
  {
   "cell_type": "code",
   "execution_count": null,
   "metadata": {},
   "outputs": [],
   "source": [
    "from scipy import stats\n",
    "\n",
    "# Use the stats.linregress() method to evaluate regression\n",
    "regression = stats.linregress(xdat,ydat)\n",
    "\n",
    "# Don't use line(regression) in this code box"
   ]
  }
 ],
 "metadata": {
  "kernelspec": {
   "display_name": "Python 3",
   "language": "python",
   "name": "python3"
  },
  "language_info": {
   "codemirror_mode": {
    "name": "ipython",
    "version": 3
   },
   "file_extension": ".py",
   "mimetype": "text/x-python",
   "name": "python",
   "nbconvert_exporter": "python",
   "pygments_lexer": "ipython3",
   "version": "3.8.5"
  }
 },
 "nbformat": 4,
 "nbformat_minor": 4
}
