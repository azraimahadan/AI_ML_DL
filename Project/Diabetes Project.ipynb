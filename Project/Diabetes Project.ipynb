{
 "cells": [
  {
   "cell_type": "markdown",
   "id": "d277cdc0",
   "metadata": {},
   "source": [
    "<h1>Diabetes Prediction Project</h1>"
   ]
  },
  {
   "cell_type": "markdown",
   "id": "e181c59f",
   "metadata": {},
   "source": [
    "<h3>Data Wrangling</h3>"
   ]
  },
  {
   "cell_type": "code",
   "execution_count": 1,
   "id": "dfb6fea7",
   "metadata": {},
   "outputs": [],
   "source": [
    "# import pandas library\n",
    "import itertools\n",
    "import numpy as np\n",
    "import matplotlib.pyplot as plt\n",
    "from matplotlib.ticker import NullFormatter\n",
    "import pandas as pd\n",
    "import numpy as np\n",
    "import matplotlib.ticker as ticker\n",
    "from sklearn import preprocessing"
   ]
  },
  {
   "cell_type": "code",
   "execution_count": 2,
   "id": "0efc7019",
   "metadata": {},
   "outputs": [
    {
     "data": {
      "text/html": [
       "<div>\n",
       "<style scoped>\n",
       "    .dataframe tbody tr th:only-of-type {\n",
       "        vertical-align: middle;\n",
       "    }\n",
       "\n",
       "    .dataframe tbody tr th {\n",
       "        vertical-align: top;\n",
       "    }\n",
       "\n",
       "    .dataframe thead th {\n",
       "        text-align: right;\n",
       "    }\n",
       "</style>\n",
       "<table border=\"1\" class=\"dataframe\">\n",
       "  <thead>\n",
       "    <tr style=\"text-align: right;\">\n",
       "      <th></th>\n",
       "      <th>patient_number</th>\n",
       "      <th>cholesterol</th>\n",
       "      <th>glucose</th>\n",
       "      <th>hdl_chol</th>\n",
       "      <th>chol_hdl_ratio</th>\n",
       "      <th>age</th>\n",
       "      <th>gender</th>\n",
       "      <th>height</th>\n",
       "      <th>weight</th>\n",
       "      <th>bmi</th>\n",
       "      <th>systolic_bp</th>\n",
       "      <th>diastolic_bp</th>\n",
       "      <th>waist</th>\n",
       "      <th>hip</th>\n",
       "      <th>waist_hip_ratio</th>\n",
       "      <th>diabetes</th>\n",
       "    </tr>\n",
       "  </thead>\n",
       "  <tbody>\n",
       "    <tr>\n",
       "      <th>0</th>\n",
       "      <td>1</td>\n",
       "      <td>193</td>\n",
       "      <td>77</td>\n",
       "      <td>49</td>\n",
       "      <td>3,9</td>\n",
       "      <td>19</td>\n",
       "      <td>female</td>\n",
       "      <td>61</td>\n",
       "      <td>119</td>\n",
       "      <td>22,5</td>\n",
       "      <td>118</td>\n",
       "      <td>70</td>\n",
       "      <td>32</td>\n",
       "      <td>38</td>\n",
       "      <td>0,84</td>\n",
       "      <td>No diabetes</td>\n",
       "    </tr>\n",
       "    <tr>\n",
       "      <th>1</th>\n",
       "      <td>2</td>\n",
       "      <td>146</td>\n",
       "      <td>79</td>\n",
       "      <td>41</td>\n",
       "      <td>3,6</td>\n",
       "      <td>19</td>\n",
       "      <td>female</td>\n",
       "      <td>60</td>\n",
       "      <td>135</td>\n",
       "      <td>26,4</td>\n",
       "      <td>108</td>\n",
       "      <td>58</td>\n",
       "      <td>33</td>\n",
       "      <td>40</td>\n",
       "      <td>0,83</td>\n",
       "      <td>No diabetes</td>\n",
       "    </tr>\n",
       "    <tr>\n",
       "      <th>2</th>\n",
       "      <td>3</td>\n",
       "      <td>217</td>\n",
       "      <td>75</td>\n",
       "      <td>54</td>\n",
       "      <td>4</td>\n",
       "      <td>20</td>\n",
       "      <td>female</td>\n",
       "      <td>67</td>\n",
       "      <td>187</td>\n",
       "      <td>29,3</td>\n",
       "      <td>110</td>\n",
       "      <td>72</td>\n",
       "      <td>40</td>\n",
       "      <td>45</td>\n",
       "      <td>0,89</td>\n",
       "      <td>No diabetes</td>\n",
       "    </tr>\n",
       "    <tr>\n",
       "      <th>3</th>\n",
       "      <td>4</td>\n",
       "      <td>226</td>\n",
       "      <td>97</td>\n",
       "      <td>70</td>\n",
       "      <td>3,2</td>\n",
       "      <td>20</td>\n",
       "      <td>female</td>\n",
       "      <td>64</td>\n",
       "      <td>114</td>\n",
       "      <td>19,6</td>\n",
       "      <td>122</td>\n",
       "      <td>64</td>\n",
       "      <td>31</td>\n",
       "      <td>39</td>\n",
       "      <td>0,79</td>\n",
       "      <td>No diabetes</td>\n",
       "    </tr>\n",
       "    <tr>\n",
       "      <th>4</th>\n",
       "      <td>5</td>\n",
       "      <td>164</td>\n",
       "      <td>91</td>\n",
       "      <td>67</td>\n",
       "      <td>2,4</td>\n",
       "      <td>20</td>\n",
       "      <td>female</td>\n",
       "      <td>70</td>\n",
       "      <td>141</td>\n",
       "      <td>20,2</td>\n",
       "      <td>122</td>\n",
       "      <td>86</td>\n",
       "      <td>32</td>\n",
       "      <td>39</td>\n",
       "      <td>0,82</td>\n",
       "      <td>No diabetes</td>\n",
       "    </tr>\n",
       "  </tbody>\n",
       "</table>\n",
       "</div>"
      ],
      "text/plain": [
       "   patient_number  cholesterol  glucose  hdl_chol chol_hdl_ratio  age  gender  \\\n",
       "0               1          193       77        49            3,9   19  female   \n",
       "1               2          146       79        41            3,6   19  female   \n",
       "2               3          217       75        54              4   20  female   \n",
       "3               4          226       97        70            3,2   20  female   \n",
       "4               5          164       91        67            2,4   20  female   \n",
       "\n",
       "   height  weight   bmi  systolic_bp  diastolic_bp  waist  hip  \\\n",
       "0      61     119  22,5          118            70     32   38   \n",
       "1      60     135  26,4          108            58     33   40   \n",
       "2      67     187  29,3          110            72     40   45   \n",
       "3      64     114  19,6          122            64     31   39   \n",
       "4      70     141  20,2          122            86     32   39   \n",
       "\n",
       "  waist_hip_ratio     diabetes  \n",
       "0            0,84  No diabetes  \n",
       "1            0,83  No diabetes  \n",
       "2            0,89  No diabetes  \n",
       "3            0,79  No diabetes  \n",
       "4            0,82  No diabetes  "
      ]
     },
     "execution_count": 2,
     "metadata": {},
     "output_type": "execute_result"
    }
   ],
   "source": [
    "df = pd.read_csv(\"diabetes.csv\")\n",
    "df.head()"
   ]
  },
  {
   "cell_type": "markdown",
   "id": "5e36eb62",
   "metadata": {},
   "source": [
    "*The height column should be updated"
   ]
  },
  {
   "cell_type": "code",
   "execution_count": 3,
   "id": "dc336e8b",
   "metadata": {
    "scrolled": true
   },
   "outputs": [],
   "source": [
    "#df.info()\n",
    "df = df.set_index(\"patient_number\")"
   ]
  },
  {
   "cell_type": "code",
   "execution_count": 4,
   "id": "7785bffd",
   "metadata": {},
   "outputs": [
    {
     "name": "stdout",
     "output_type": "stream",
     "text": [
      "<class 'pandas.core.frame.DataFrame'>\n",
      "Int64Index: 390 entries, 1 to 390\n",
      "Data columns (total 15 columns):\n",
      " #   Column           Non-Null Count  Dtype \n",
      "---  ------           --------------  ----- \n",
      " 0   cholesterol      390 non-null    int64 \n",
      " 1   glucose          390 non-null    int64 \n",
      " 2   hdl_chol         390 non-null    int64 \n",
      " 3   chol_hdl_ratio   390 non-null    object\n",
      " 4   age              390 non-null    int64 \n",
      " 5   gender           390 non-null    object\n",
      " 6   height           390 non-null    int64 \n",
      " 7   weight           390 non-null    int64 \n",
      " 8   bmi              390 non-null    object\n",
      " 9   systolic_bp      390 non-null    int64 \n",
      " 10  diastolic_bp     390 non-null    int64 \n",
      " 11  waist            390 non-null    int64 \n",
      " 12  hip              390 non-null    int64 \n",
      " 13  waist_hip_ratio  390 non-null    object\n",
      " 14  diabetes         390 non-null    object\n",
      "dtypes: int64(10), object(5)\n",
      "memory usage: 48.8+ KB\n"
     ]
    }
   ],
   "source": [
    "df.replace(\"?\", np.nan, inplace = True)\n",
    "df.info()"
   ]
  },
  {
   "cell_type": "markdown",
   "id": "8ca72076",
   "metadata": {},
   "source": [
    "There is no null value"
   ]
  },
  {
   "cell_type": "code",
   "execution_count": 5,
   "id": "ae08a97d",
   "metadata": {
    "scrolled": true
   },
   "outputs": [
    {
     "data": {
      "text/html": [
       "<div>\n",
       "<style scoped>\n",
       "    .dataframe tbody tr th:only-of-type {\n",
       "        vertical-align: middle;\n",
       "    }\n",
       "\n",
       "    .dataframe tbody tr th {\n",
       "        vertical-align: top;\n",
       "    }\n",
       "\n",
       "    .dataframe thead th {\n",
       "        text-align: right;\n",
       "    }\n",
       "</style>\n",
       "<table border=\"1\" class=\"dataframe\">\n",
       "  <thead>\n",
       "    <tr style=\"text-align: right;\">\n",
       "      <th></th>\n",
       "      <th>cholesterol</th>\n",
       "      <th>glucose</th>\n",
       "      <th>hdl_chol</th>\n",
       "      <th>chol_hdl_ratio</th>\n",
       "      <th>age</th>\n",
       "      <th>gender</th>\n",
       "      <th>height</th>\n",
       "      <th>weight</th>\n",
       "      <th>bmi</th>\n",
       "      <th>systolic_bp</th>\n",
       "      <th>diastolic_bp</th>\n",
       "      <th>waist</th>\n",
       "      <th>hip</th>\n",
       "      <th>waist_hip_ratio</th>\n",
       "      <th>diabetes</th>\n",
       "    </tr>\n",
       "  </thead>\n",
       "  <tbody>\n",
       "    <tr>\n",
       "      <th>count</th>\n",
       "      <td>390.000000</td>\n",
       "      <td>390.000000</td>\n",
       "      <td>390.000000</td>\n",
       "      <td>390</td>\n",
       "      <td>390.000000</td>\n",
       "      <td>390</td>\n",
       "      <td>390.000000</td>\n",
       "      <td>390.000000</td>\n",
       "      <td>390</td>\n",
       "      <td>390.000000</td>\n",
       "      <td>390.000000</td>\n",
       "      <td>390.000000</td>\n",
       "      <td>390.000000</td>\n",
       "      <td>390</td>\n",
       "      <td>390</td>\n",
       "    </tr>\n",
       "    <tr>\n",
       "      <th>unique</th>\n",
       "      <td>NaN</td>\n",
       "      <td>NaN</td>\n",
       "      <td>NaN</td>\n",
       "      <td>69</td>\n",
       "      <td>NaN</td>\n",
       "      <td>2</td>\n",
       "      <td>NaN</td>\n",
       "      <td>NaN</td>\n",
       "      <td>193</td>\n",
       "      <td>NaN</td>\n",
       "      <td>NaN</td>\n",
       "      <td>NaN</td>\n",
       "      <td>NaN</td>\n",
       "      <td>39</td>\n",
       "      <td>2</td>\n",
       "    </tr>\n",
       "    <tr>\n",
       "      <th>top</th>\n",
       "      <td>NaN</td>\n",
       "      <td>NaN</td>\n",
       "      <td>NaN</td>\n",
       "      <td>3,6</td>\n",
       "      <td>NaN</td>\n",
       "      <td>female</td>\n",
       "      <td>NaN</td>\n",
       "      <td>NaN</td>\n",
       "      <td>30,1</td>\n",
       "      <td>NaN</td>\n",
       "      <td>NaN</td>\n",
       "      <td>NaN</td>\n",
       "      <td>NaN</td>\n",
       "      <td>0,9</td>\n",
       "      <td>No diabetes</td>\n",
       "    </tr>\n",
       "    <tr>\n",
       "      <th>freq</th>\n",
       "      <td>NaN</td>\n",
       "      <td>NaN</td>\n",
       "      <td>NaN</td>\n",
       "      <td>15</td>\n",
       "      <td>NaN</td>\n",
       "      <td>228</td>\n",
       "      <td>NaN</td>\n",
       "      <td>NaN</td>\n",
       "      <td>9</td>\n",
       "      <td>NaN</td>\n",
       "      <td>NaN</td>\n",
       "      <td>NaN</td>\n",
       "      <td>NaN</td>\n",
       "      <td>28</td>\n",
       "      <td>330</td>\n",
       "    </tr>\n",
       "    <tr>\n",
       "      <th>mean</th>\n",
       "      <td>207.230769</td>\n",
       "      <td>107.338462</td>\n",
       "      <td>50.266667</td>\n",
       "      <td>NaN</td>\n",
       "      <td>46.774359</td>\n",
       "      <td>NaN</td>\n",
       "      <td>65.951282</td>\n",
       "      <td>177.407692</td>\n",
       "      <td>NaN</td>\n",
       "      <td>137.133333</td>\n",
       "      <td>83.289744</td>\n",
       "      <td>37.869231</td>\n",
       "      <td>42.992308</td>\n",
       "      <td>NaN</td>\n",
       "      <td>NaN</td>\n",
       "    </tr>\n",
       "    <tr>\n",
       "      <th>std</th>\n",
       "      <td>44.666005</td>\n",
       "      <td>53.798188</td>\n",
       "      <td>17.279069</td>\n",
       "      <td>NaN</td>\n",
       "      <td>16.435911</td>\n",
       "      <td>NaN</td>\n",
       "      <td>3.918867</td>\n",
       "      <td>40.407824</td>\n",
       "      <td>NaN</td>\n",
       "      <td>22.859528</td>\n",
       "      <td>13.498192</td>\n",
       "      <td>5.760947</td>\n",
       "      <td>5.664342</td>\n",
       "      <td>NaN</td>\n",
       "      <td>NaN</td>\n",
       "    </tr>\n",
       "    <tr>\n",
       "      <th>min</th>\n",
       "      <td>78.000000</td>\n",
       "      <td>48.000000</td>\n",
       "      <td>12.000000</td>\n",
       "      <td>NaN</td>\n",
       "      <td>19.000000</td>\n",
       "      <td>NaN</td>\n",
       "      <td>52.000000</td>\n",
       "      <td>99.000000</td>\n",
       "      <td>NaN</td>\n",
       "      <td>90.000000</td>\n",
       "      <td>48.000000</td>\n",
       "      <td>26.000000</td>\n",
       "      <td>30.000000</td>\n",
       "      <td>NaN</td>\n",
       "      <td>NaN</td>\n",
       "    </tr>\n",
       "    <tr>\n",
       "      <th>25%</th>\n",
       "      <td>179.000000</td>\n",
       "      <td>81.000000</td>\n",
       "      <td>38.000000</td>\n",
       "      <td>NaN</td>\n",
       "      <td>34.000000</td>\n",
       "      <td>NaN</td>\n",
       "      <td>63.000000</td>\n",
       "      <td>150.250000</td>\n",
       "      <td>NaN</td>\n",
       "      <td>122.000000</td>\n",
       "      <td>75.000000</td>\n",
       "      <td>33.000000</td>\n",
       "      <td>39.000000</td>\n",
       "      <td>NaN</td>\n",
       "      <td>NaN</td>\n",
       "    </tr>\n",
       "    <tr>\n",
       "      <th>50%</th>\n",
       "      <td>203.000000</td>\n",
       "      <td>90.000000</td>\n",
       "      <td>46.000000</td>\n",
       "      <td>NaN</td>\n",
       "      <td>44.500000</td>\n",
       "      <td>NaN</td>\n",
       "      <td>66.000000</td>\n",
       "      <td>173.000000</td>\n",
       "      <td>NaN</td>\n",
       "      <td>136.000000</td>\n",
       "      <td>82.000000</td>\n",
       "      <td>37.000000</td>\n",
       "      <td>42.000000</td>\n",
       "      <td>NaN</td>\n",
       "      <td>NaN</td>\n",
       "    </tr>\n",
       "    <tr>\n",
       "      <th>75%</th>\n",
       "      <td>229.000000</td>\n",
       "      <td>107.750000</td>\n",
       "      <td>59.000000</td>\n",
       "      <td>NaN</td>\n",
       "      <td>60.000000</td>\n",
       "      <td>NaN</td>\n",
       "      <td>69.000000</td>\n",
       "      <td>200.000000</td>\n",
       "      <td>NaN</td>\n",
       "      <td>148.000000</td>\n",
       "      <td>90.000000</td>\n",
       "      <td>41.000000</td>\n",
       "      <td>46.000000</td>\n",
       "      <td>NaN</td>\n",
       "      <td>NaN</td>\n",
       "    </tr>\n",
       "    <tr>\n",
       "      <th>max</th>\n",
       "      <td>443.000000</td>\n",
       "      <td>385.000000</td>\n",
       "      <td>120.000000</td>\n",
       "      <td>NaN</td>\n",
       "      <td>92.000000</td>\n",
       "      <td>NaN</td>\n",
       "      <td>76.000000</td>\n",
       "      <td>325.000000</td>\n",
       "      <td>NaN</td>\n",
       "      <td>250.000000</td>\n",
       "      <td>124.000000</td>\n",
       "      <td>56.000000</td>\n",
       "      <td>64.000000</td>\n",
       "      <td>NaN</td>\n",
       "      <td>NaN</td>\n",
       "    </tr>\n",
       "  </tbody>\n",
       "</table>\n",
       "</div>"
      ],
      "text/plain": [
       "        cholesterol     glucose    hdl_chol chol_hdl_ratio         age  \\\n",
       "count    390.000000  390.000000  390.000000            390  390.000000   \n",
       "unique          NaN         NaN         NaN             69         NaN   \n",
       "top             NaN         NaN         NaN            3,6         NaN   \n",
       "freq            NaN         NaN         NaN             15         NaN   \n",
       "mean     207.230769  107.338462   50.266667            NaN   46.774359   \n",
       "std       44.666005   53.798188   17.279069            NaN   16.435911   \n",
       "min       78.000000   48.000000   12.000000            NaN   19.000000   \n",
       "25%      179.000000   81.000000   38.000000            NaN   34.000000   \n",
       "50%      203.000000   90.000000   46.000000            NaN   44.500000   \n",
       "75%      229.000000  107.750000   59.000000            NaN   60.000000   \n",
       "max      443.000000  385.000000  120.000000            NaN   92.000000   \n",
       "\n",
       "        gender      height      weight   bmi  systolic_bp  diastolic_bp  \\\n",
       "count      390  390.000000  390.000000   390   390.000000    390.000000   \n",
       "unique       2         NaN         NaN   193          NaN           NaN   \n",
       "top     female         NaN         NaN  30,1          NaN           NaN   \n",
       "freq       228         NaN         NaN     9          NaN           NaN   \n",
       "mean       NaN   65.951282  177.407692   NaN   137.133333     83.289744   \n",
       "std        NaN    3.918867   40.407824   NaN    22.859528     13.498192   \n",
       "min        NaN   52.000000   99.000000   NaN    90.000000     48.000000   \n",
       "25%        NaN   63.000000  150.250000   NaN   122.000000     75.000000   \n",
       "50%        NaN   66.000000  173.000000   NaN   136.000000     82.000000   \n",
       "75%        NaN   69.000000  200.000000   NaN   148.000000     90.000000   \n",
       "max        NaN   76.000000  325.000000   NaN   250.000000    124.000000   \n",
       "\n",
       "             waist         hip waist_hip_ratio     diabetes  \n",
       "count   390.000000  390.000000             390          390  \n",
       "unique         NaN         NaN              39            2  \n",
       "top            NaN         NaN             0,9  No diabetes  \n",
       "freq           NaN         NaN              28          330  \n",
       "mean     37.869231   42.992308             NaN          NaN  \n",
       "std       5.760947    5.664342             NaN          NaN  \n",
       "min      26.000000   30.000000             NaN          NaN  \n",
       "25%      33.000000   39.000000             NaN          NaN  \n",
       "50%      37.000000   42.000000             NaN          NaN  \n",
       "75%      41.000000   46.000000             NaN          NaN  \n",
       "max      56.000000   64.000000             NaN          NaN  "
      ]
     },
     "execution_count": 5,
     "metadata": {},
     "output_type": "execute_result"
    }
   ],
   "source": [
    "df.describe(include='all')"
   ]
  },
  {
   "cell_type": "markdown",
   "id": "6fb61168",
   "metadata": {},
   "source": [
    "<h4>Convert object column to integer data types</h3>"
   ]
  },
  {
   "cell_type": "code",
   "execution_count": 6,
   "id": "aa483e2e",
   "metadata": {},
   "outputs": [
    {
     "data": {
      "text/html": [
       "<div>\n",
       "<style scoped>\n",
       "    .dataframe tbody tr th:only-of-type {\n",
       "        vertical-align: middle;\n",
       "    }\n",
       "\n",
       "    .dataframe tbody tr th {\n",
       "        vertical-align: top;\n",
       "    }\n",
       "\n",
       "    .dataframe thead th {\n",
       "        text-align: right;\n",
       "    }\n",
       "</style>\n",
       "<table border=\"1\" class=\"dataframe\">\n",
       "  <thead>\n",
       "    <tr style=\"text-align: right;\">\n",
       "      <th></th>\n",
       "      <th>chol_hdl_ratio</th>\n",
       "      <th>bmi</th>\n",
       "      <th>waist_hip_ratio</th>\n",
       "    </tr>\n",
       "    <tr>\n",
       "      <th>patient_number</th>\n",
       "      <th></th>\n",
       "      <th></th>\n",
       "      <th></th>\n",
       "    </tr>\n",
       "  </thead>\n",
       "  <tbody>\n",
       "    <tr>\n",
       "      <th>1</th>\n",
       "      <td>3.9</td>\n",
       "      <td>22.5</td>\n",
       "      <td>0.84</td>\n",
       "    </tr>\n",
       "    <tr>\n",
       "      <th>2</th>\n",
       "      <td>3.6</td>\n",
       "      <td>26.4</td>\n",
       "      <td>0.83</td>\n",
       "    </tr>\n",
       "    <tr>\n",
       "      <th>3</th>\n",
       "      <td>4</td>\n",
       "      <td>29.3</td>\n",
       "      <td>0.89</td>\n",
       "    </tr>\n",
       "  </tbody>\n",
       "</table>\n",
       "</div>"
      ],
      "text/plain": [
       "               chol_hdl_ratio   bmi waist_hip_ratio\n",
       "patient_number                                     \n",
       "1                         3.9  22.5            0.84\n",
       "2                         3.6  26.4            0.83\n",
       "3                           4  29.3            0.89"
      ]
     },
     "execution_count": 6,
     "metadata": {},
     "output_type": "execute_result"
    }
   ],
   "source": [
    "df[['chol_hdl_ratio','bmi','waist_hip_ratio']] = \\\n",
    " df[['chol_hdl_ratio','bmi','waist_hip_ratio']].astype(\"str\").replace(',','.',regex=True)\n",
    "df[['chol_hdl_ratio','bmi','waist_hip_ratio']].head(3)"
   ]
  },
  {
   "cell_type": "code",
   "execution_count": 7,
   "id": "6461d72e",
   "metadata": {},
   "outputs": [],
   "source": [
    "#df.info()"
   ]
  },
  {
   "cell_type": "code",
   "execution_count": 8,
   "id": "3c4e7578",
   "metadata": {},
   "outputs": [
    {
     "name": "stdout",
     "output_type": "stream",
     "text": [
      "<class 'pandas.core.frame.DataFrame'>\n",
      "Int64Index: 390 entries, 1 to 390\n",
      "Data columns (total 15 columns):\n",
      " #   Column           Non-Null Count  Dtype  \n",
      "---  ------           --------------  -----  \n",
      " 0   cholesterol      390 non-null    int64  \n",
      " 1   glucose          390 non-null    int64  \n",
      " 2   hdl_chol         390 non-null    int64  \n",
      " 3   chol_hdl_ratio   390 non-null    float64\n",
      " 4   age              390 non-null    int64  \n",
      " 5   gender           390 non-null    object \n",
      " 6   height           390 non-null    int64  \n",
      " 7   weight           390 non-null    int64  \n",
      " 8   bmi              390 non-null    float64\n",
      " 9   systolic_bp      390 non-null    int64  \n",
      " 10  diastolic_bp     390 non-null    int64  \n",
      " 11  waist            390 non-null    int64  \n",
      " 12  hip              390 non-null    int64  \n",
      " 13  waist_hip_ratio  390 non-null    float64\n",
      " 14  diabetes         390 non-null    object \n",
      "dtypes: float64(3), int64(10), object(2)\n",
      "memory usage: 48.8+ KB\n"
     ]
    }
   ],
   "source": [
    "df[['chol_hdl_ratio','bmi','waist_hip_ratio']] = df[['chol_hdl_ratio','bmi','waist_hip_ratio']].astype(\"float\")\n",
    "df.info()"
   ]
  },
  {
   "cell_type": "code",
   "execution_count": 9,
   "id": "08fed370",
   "metadata": {},
   "outputs": [
    {
     "data": {
      "text/html": [
       "<div>\n",
       "<style scoped>\n",
       "    .dataframe tbody tr th:only-of-type {\n",
       "        vertical-align: middle;\n",
       "    }\n",
       "\n",
       "    .dataframe tbody tr th {\n",
       "        vertical-align: top;\n",
       "    }\n",
       "\n",
       "    .dataframe thead th {\n",
       "        text-align: right;\n",
       "    }\n",
       "</style>\n",
       "<table border=\"1\" class=\"dataframe\">\n",
       "  <thead>\n",
       "    <tr style=\"text-align: right;\">\n",
       "      <th></th>\n",
       "      <th>cholesterol</th>\n",
       "      <th>glucose</th>\n",
       "      <th>hdl_chol</th>\n",
       "      <th>chol_hdl_ratio</th>\n",
       "      <th>age</th>\n",
       "      <th>gender</th>\n",
       "      <th>height</th>\n",
       "      <th>weight</th>\n",
       "      <th>bmi</th>\n",
       "      <th>systolic_bp</th>\n",
       "      <th>diastolic_bp</th>\n",
       "      <th>waist</th>\n",
       "      <th>hip</th>\n",
       "      <th>waist_hip_ratio</th>\n",
       "      <th>diabetes</th>\n",
       "    </tr>\n",
       "    <tr>\n",
       "      <th>patient_number</th>\n",
       "      <th></th>\n",
       "      <th></th>\n",
       "      <th></th>\n",
       "      <th></th>\n",
       "      <th></th>\n",
       "      <th></th>\n",
       "      <th></th>\n",
       "      <th></th>\n",
       "      <th></th>\n",
       "      <th></th>\n",
       "      <th></th>\n",
       "      <th></th>\n",
       "      <th></th>\n",
       "      <th></th>\n",
       "      <th></th>\n",
       "    </tr>\n",
       "  </thead>\n",
       "  <tbody>\n",
       "    <tr>\n",
       "      <th>1</th>\n",
       "      <td>193</td>\n",
       "      <td>77</td>\n",
       "      <td>49</td>\n",
       "      <td>3.9</td>\n",
       "      <td>19</td>\n",
       "      <td>female</td>\n",
       "      <td>61</td>\n",
       "      <td>119</td>\n",
       "      <td>22.5</td>\n",
       "      <td>118</td>\n",
       "      <td>70</td>\n",
       "      <td>32</td>\n",
       "      <td>38</td>\n",
       "      <td>0.84</td>\n",
       "      <td>No diabetes</td>\n",
       "    </tr>\n",
       "    <tr>\n",
       "      <th>2</th>\n",
       "      <td>146</td>\n",
       "      <td>79</td>\n",
       "      <td>41</td>\n",
       "      <td>3.6</td>\n",
       "      <td>19</td>\n",
       "      <td>female</td>\n",
       "      <td>60</td>\n",
       "      <td>135</td>\n",
       "      <td>26.4</td>\n",
       "      <td>108</td>\n",
       "      <td>58</td>\n",
       "      <td>33</td>\n",
       "      <td>40</td>\n",
       "      <td>0.83</td>\n",
       "      <td>No diabetes</td>\n",
       "    </tr>\n",
       "    <tr>\n",
       "      <th>3</th>\n",
       "      <td>217</td>\n",
       "      <td>75</td>\n",
       "      <td>54</td>\n",
       "      <td>4.0</td>\n",
       "      <td>20</td>\n",
       "      <td>female</td>\n",
       "      <td>67</td>\n",
       "      <td>187</td>\n",
       "      <td>29.3</td>\n",
       "      <td>110</td>\n",
       "      <td>72</td>\n",
       "      <td>40</td>\n",
       "      <td>45</td>\n",
       "      <td>0.89</td>\n",
       "      <td>No diabetes</td>\n",
       "    </tr>\n",
       "    <tr>\n",
       "      <th>4</th>\n",
       "      <td>226</td>\n",
       "      <td>97</td>\n",
       "      <td>70</td>\n",
       "      <td>3.2</td>\n",
       "      <td>20</td>\n",
       "      <td>female</td>\n",
       "      <td>64</td>\n",
       "      <td>114</td>\n",
       "      <td>19.6</td>\n",
       "      <td>122</td>\n",
       "      <td>64</td>\n",
       "      <td>31</td>\n",
       "      <td>39</td>\n",
       "      <td>0.79</td>\n",
       "      <td>No diabetes</td>\n",
       "    </tr>\n",
       "    <tr>\n",
       "      <th>5</th>\n",
       "      <td>164</td>\n",
       "      <td>91</td>\n",
       "      <td>67</td>\n",
       "      <td>2.4</td>\n",
       "      <td>20</td>\n",
       "      <td>female</td>\n",
       "      <td>70</td>\n",
       "      <td>141</td>\n",
       "      <td>20.2</td>\n",
       "      <td>122</td>\n",
       "      <td>86</td>\n",
       "      <td>32</td>\n",
       "      <td>39</td>\n",
       "      <td>0.82</td>\n",
       "      <td>No diabetes</td>\n",
       "    </tr>\n",
       "  </tbody>\n",
       "</table>\n",
       "</div>"
      ],
      "text/plain": [
       "                cholesterol  glucose  hdl_chol  chol_hdl_ratio  age  gender  \\\n",
       "patient_number                                                                \n",
       "1                       193       77        49             3.9   19  female   \n",
       "2                       146       79        41             3.6   19  female   \n",
       "3                       217       75        54             4.0   20  female   \n",
       "4                       226       97        70             3.2   20  female   \n",
       "5                       164       91        67             2.4   20  female   \n",
       "\n",
       "                height  weight   bmi  systolic_bp  diastolic_bp  waist  hip  \\\n",
       "patient_number                                                                \n",
       "1                   61     119  22.5          118            70     32   38   \n",
       "2                   60     135  26.4          108            58     33   40   \n",
       "3                   67     187  29.3          110            72     40   45   \n",
       "4                   64     114  19.6          122            64     31   39   \n",
       "5                   70     141  20.2          122            86     32   39   \n",
       "\n",
       "                waist_hip_ratio     diabetes  \n",
       "patient_number                                \n",
       "1                          0.84  No diabetes  \n",
       "2                          0.83  No diabetes  \n",
       "3                          0.89  No diabetes  \n",
       "4                          0.79  No diabetes  \n",
       "5                          0.82  No diabetes  "
      ]
     },
     "execution_count": 9,
     "metadata": {},
     "output_type": "execute_result"
    }
   ],
   "source": [
    "df.head()"
   ]
  },
  {
   "cell_type": "markdown",
   "id": "53a479e1",
   "metadata": {},
   "source": [
    "<h4>Try binning for BMI column"
   ]
  },
  {
   "cell_type": "code",
   "execution_count": 10,
   "id": "ab62a87c",
   "metadata": {},
   "outputs": [
    {
     "data": {
      "text/plain": [
       "Text(0.5, 1.0, 'bmi bins')"
      ]
     },
     "execution_count": 10,
     "metadata": {},
     "output_type": "execute_result"
    },
    {
     "data": {
      "image/png": "[encoded data removed]",
      "text/plain": [
       "<Figure size 432x288 with 1 Axes>"
      ]
     },
     "metadata": {
      "needs_background": "light"
     },
     "output_type": "display_data"
    }
   ],
   "source": [
    "%matplotlib inline\n",
    "import matplotlib as plt\n",
    "from matplotlib import pyplot\n",
    "#plot histgram for bmi\n",
    "plt.pyplot.hist(df[\"bmi\"])\n",
    "\n",
    "# set x/y labels and plot title\n",
    "plt.pyplot.xlabel(\"bmi\")\n",
    "plt.pyplot.ylabel(\"count\")\n",
    "plt.pyplot.title(\"bmi bins\")"
   ]
  },
  {
   "cell_type": "code",
   "execution_count": 11,
   "id": "2d01c641",
   "metadata": {},
   "outputs": [
    {
     "data": {
      "text/plain": [
       "array([ 0. , 18.5, 25. , 30. , 55.8])"
      ]
     },
     "execution_count": 11,
     "metadata": {},
     "output_type": "execute_result"
    }
   ],
   "source": [
    "group_names = ['Underweight','Healthy','Overweight','Obese']\n",
    "bins = np.array([0,18.5, 25, 30,  max(df[\"bmi\"])])\n",
    "bins"
   ]
  },
  {
   "cell_type": "code",
   "execution_count": 12,
   "id": "24d9fd04",
   "metadata": {},
   "outputs": [
    {
     "data": {
      "text/html": [
       "<div>\n",
       "<style scoped>\n",
       "    .dataframe tbody tr th:only-of-type {\n",
       "        vertical-align: middle;\n",
       "    }\n",
       "\n",
       "    .dataframe tbody tr th {\n",
       "        vertical-align: top;\n",
       "    }\n",
       "\n",
       "    .dataframe thead th {\n",
       "        text-align: right;\n",
       "    }\n",
       "</style>\n",
       "<table border=\"1\" class=\"dataframe\">\n",
       "  <thead>\n",
       "    <tr style=\"text-align: right;\">\n",
       "      <th></th>\n",
       "      <th>bmi</th>\n",
       "      <th>bmi-binned</th>\n",
       "    </tr>\n",
       "    <tr>\n",
       "      <th>patient_number</th>\n",
       "      <th></th>\n",
       "      <th></th>\n",
       "    </tr>\n",
       "  </thead>\n",
       "  <tbody>\n",
       "    <tr>\n",
       "      <th>1</th>\n",
       "      <td>22.5</td>\n",
       "      <td>Healthy</td>\n",
       "    </tr>\n",
       "    <tr>\n",
       "      <th>2</th>\n",
       "      <td>26.4</td>\n",
       "      <td>Overweight</td>\n",
       "    </tr>\n",
       "    <tr>\n",
       "      <th>3</th>\n",
       "      <td>29.3</td>\n",
       "      <td>Overweight</td>\n",
       "    </tr>\n",
       "    <tr>\n",
       "      <th>4</th>\n",
       "      <td>19.6</td>\n",
       "      <td>Healthy</td>\n",
       "    </tr>\n",
       "    <tr>\n",
       "      <th>5</th>\n",
       "      <td>20.2</td>\n",
       "      <td>Healthy</td>\n",
       "    </tr>\n",
       "    <tr>\n",
       "      <th>6</th>\n",
       "      <td>27.6</td>\n",
       "      <td>Overweight</td>\n",
       "    </tr>\n",
       "    <tr>\n",
       "      <th>7</th>\n",
       "      <td>21.0</td>\n",
       "      <td>Healthy</td>\n",
       "    </tr>\n",
       "    <tr>\n",
       "      <th>8</th>\n",
       "      <td>19.7</td>\n",
       "      <td>Healthy</td>\n",
       "    </tr>\n",
       "    <tr>\n",
       "      <th>9</th>\n",
       "      <td>24.9</td>\n",
       "      <td>Healthy</td>\n",
       "    </tr>\n",
       "    <tr>\n",
       "      <th>10</th>\n",
       "      <td>35.5</td>\n",
       "      <td>Obese</td>\n",
       "    </tr>\n",
       "  </tbody>\n",
       "</table>\n",
       "</div>"
      ],
      "text/plain": [
       "                 bmi  bmi-binned\n",
       "patient_number                  \n",
       "1               22.5     Healthy\n",
       "2               26.4  Overweight\n",
       "3               29.3  Overweight\n",
       "4               19.6     Healthy\n",
       "5               20.2     Healthy\n",
       "6               27.6  Overweight\n",
       "7               21.0     Healthy\n",
       "8               19.7     Healthy\n",
       "9               24.9     Healthy\n",
       "10              35.5       Obese"
      ]
     },
     "execution_count": 12,
     "metadata": {},
     "output_type": "execute_result"
    }
   ],
   "source": [
    "df['bmi-binned'] = pd.cut(df['bmi'], bins, labels=group_names, include_lowest=True )\n",
    "df[['bmi','bmi-binned']].head(10)"
   ]
  },
  {
   "cell_type": "code",
   "execution_count": 13,
   "id": "7d8589ff",
   "metadata": {},
   "outputs": [
    {
     "data": {
      "text/plain": [
       "Underweight      9\n",
       "Healthy        111\n",
       "Overweight     122\n",
       "Obese          148\n",
       "Name: bmi-binned, dtype: int64"
      ]
     },
     "execution_count": 13,
     "metadata": {},
     "output_type": "execute_result"
    }
   ],
   "source": [
    "df['bmi-binned'].value_counts().sort_values(ascending=True)"
   ]
  },
  {
   "cell_type": "code",
   "execution_count": 14,
   "id": "0f15f247",
   "metadata": {},
   "outputs": [
    {
     "data": {
      "text/plain": [
       "patient_number\n",
       "1       Healthy\n",
       "2    Overweight\n",
       "3    Overweight\n",
       "4       Healthy\n",
       "5       Healthy\n",
       "Name: bmi-binned, dtype: category\n",
       "Categories (4, object): ['Underweight' < 'Healthy' < 'Overweight' < 'Obese']"
      ]
     },
     "execution_count": 14,
     "metadata": {},
     "output_type": "execute_result"
    }
   ],
   "source": [
    "df['bmi-binned'].head()"
   ]
  },
  {
   "cell_type": "code",
   "execution_count": 15,
   "id": "47b410fb",
   "metadata": {},
   "outputs": [
    {
     "data": {
      "text/plain": [
       "Text(0.5, 1.0, 'BMI')"
      ]
     },
     "execution_count": 15,
     "metadata": {},
     "output_type": "execute_result"
    },
    {
     "data": {
      "image/png": "[encoded data removed]",
      "text/plain": [
       "<Figure size 432x288 with 1 Axes>"
      ]
     },
     "metadata": {
      "needs_background": "light"
     },
     "output_type": "display_data"
    }
   ],
   "source": [
    "#plot bar chart for bmi\n",
    "pyplot.bar(group_names, df[\"bmi-binned\"].value_counts().sort_values(ascending=True)) #\n",
    "\n",
    "# set x/y labels and plot title\n",
    "plt.pyplot.xlabel(\"bmi\")\n",
    "plt.pyplot.ylabel(\"count\")\n",
    "plt.pyplot.title(\"BMI\")"
   ]
  },
  {
   "cell_type": "code",
   "execution_count": 16,
   "id": "0a9cd777",
   "metadata": {
    "scrolled": true
   },
   "outputs": [
    {
     "data": {
      "text/html": [
       "<div>\n",
       "<style scoped>\n",
       "    .dataframe tbody tr th:only-of-type {\n",
       "        vertical-align: middle;\n",
       "    }\n",
       "\n",
       "    .dataframe tbody tr th {\n",
       "        vertical-align: top;\n",
       "    }\n",
       "\n",
       "    .dataframe thead th {\n",
       "        text-align: right;\n",
       "    }\n",
       "</style>\n",
       "<table border=\"1\" class=\"dataframe\">\n",
       "  <thead>\n",
       "    <tr style=\"text-align: right;\">\n",
       "      <th></th>\n",
       "      <th>cholesterol</th>\n",
       "      <th>glucose</th>\n",
       "      <th>hdl_chol</th>\n",
       "      <th>chol_hdl_ratio</th>\n",
       "      <th>age</th>\n",
       "      <th>gender</th>\n",
       "      <th>height</th>\n",
       "      <th>weight</th>\n",
       "      <th>bmi</th>\n",
       "      <th>systolic_bp</th>\n",
       "      <th>diastolic_bp</th>\n",
       "      <th>waist</th>\n",
       "      <th>hip</th>\n",
       "      <th>waist_hip_ratio</th>\n",
       "      <th>diabetes</th>\n",
       "      <th>bmi-binned</th>\n",
       "    </tr>\n",
       "    <tr>\n",
       "      <th>patient_number</th>\n",
       "      <th></th>\n",
       "      <th></th>\n",
       "      <th></th>\n",
       "      <th></th>\n",
       "      <th></th>\n",
       "      <th></th>\n",
       "      <th></th>\n",
       "      <th></th>\n",
       "      <th></th>\n",
       "      <th></th>\n",
       "      <th></th>\n",
       "      <th></th>\n",
       "      <th></th>\n",
       "      <th></th>\n",
       "      <th></th>\n",
       "      <th></th>\n",
       "    </tr>\n",
       "  </thead>\n",
       "  <tbody>\n",
       "    <tr>\n",
       "      <th>1</th>\n",
       "      <td>193</td>\n",
       "      <td>77</td>\n",
       "      <td>49</td>\n",
       "      <td>3.9</td>\n",
       "      <td>19</td>\n",
       "      <td>female</td>\n",
       "      <td>61</td>\n",
       "      <td>119</td>\n",
       "      <td>22.5</td>\n",
       "      <td>118</td>\n",
       "      <td>70</td>\n",
       "      <td>32</td>\n",
       "      <td>38</td>\n",
       "      <td>0.84</td>\n",
       "      <td>No diabetes</td>\n",
       "      <td>Healthy</td>\n",
       "    </tr>\n",
       "    <tr>\n",
       "      <th>2</th>\n",
       "      <td>146</td>\n",
       "      <td>79</td>\n",
       "      <td>41</td>\n",
       "      <td>3.6</td>\n",
       "      <td>19</td>\n",
       "      <td>female</td>\n",
       "      <td>60</td>\n",
       "      <td>135</td>\n",
       "      <td>26.4</td>\n",
       "      <td>108</td>\n",
       "      <td>58</td>\n",
       "      <td>33</td>\n",
       "      <td>40</td>\n",
       "      <td>0.83</td>\n",
       "      <td>No diabetes</td>\n",
       "      <td>Overweight</td>\n",
       "    </tr>\n",
       "    <tr>\n",
       "      <th>3</th>\n",
       "      <td>217</td>\n",
       "      <td>75</td>\n",
       "      <td>54</td>\n",
       "      <td>4.0</td>\n",
       "      <td>20</td>\n",
       "      <td>female</td>\n",
       "      <td>67</td>\n",
       "      <td>187</td>\n",
       "      <td>29.3</td>\n",
       "      <td>110</td>\n",
       "      <td>72</td>\n",
       "      <td>40</td>\n",
       "      <td>45</td>\n",
       "      <td>0.89</td>\n",
       "      <td>No diabetes</td>\n",
       "      <td>Overweight</td>\n",
       "    </tr>\n",
       "    <tr>\n",
       "      <th>4</th>\n",
       "      <td>226</td>\n",
       "      <td>97</td>\n",
       "      <td>70</td>\n",
       "      <td>3.2</td>\n",
       "      <td>20</td>\n",
       "      <td>female</td>\n",
       "      <td>64</td>\n",
       "      <td>114</td>\n",
       "      <td>19.6</td>\n",
       "      <td>122</td>\n",
       "      <td>64</td>\n",
       "      <td>31</td>\n",
       "      <td>39</td>\n",
       "      <td>0.79</td>\n",
       "      <td>No diabetes</td>\n",
       "      <td>Healthy</td>\n",
       "    </tr>\n",
       "    <tr>\n",
       "      <th>5</th>\n",
       "      <td>164</td>\n",
       "      <td>91</td>\n",
       "      <td>67</td>\n",
       "      <td>2.4</td>\n",
       "      <td>20</td>\n",
       "      <td>female</td>\n",
       "      <td>70</td>\n",
       "      <td>141</td>\n",
       "      <td>20.2</td>\n",
       "      <td>122</td>\n",
       "      <td>86</td>\n",
       "      <td>32</td>\n",
       "      <td>39</td>\n",
       "      <td>0.82</td>\n",
       "      <td>No diabetes</td>\n",
       "      <td>Healthy</td>\n",
       "    </tr>\n",
       "  </tbody>\n",
       "</table>\n",
       "</div>"
      ],
      "text/plain": [
       "                cholesterol  glucose  hdl_chol  chol_hdl_ratio  age  gender  \\\n",
       "patient_number                                                                \n",
       "1                       193       77        49             3.9   19  female   \n",
       "2                       146       79        41             3.6   19  female   \n",
       "3                       217       75        54             4.0   20  female   \n",
       "4                       226       97        70             3.2   20  female   \n",
       "5                       164       91        67             2.4   20  female   \n",
       "\n",
       "                height  weight   bmi  systolic_bp  diastolic_bp  waist  hip  \\\n",
       "patient_number                                                                \n",
       "1                   61     119  22.5          118            70     32   38   \n",
       "2                   60     135  26.4          108            58     33   40   \n",
       "3                   67     187  29.3          110            72     40   45   \n",
       "4                   64     114  19.6          122            64     31   39   \n",
       "5                   70     141  20.2          122            86     32   39   \n",
       "\n",
       "                waist_hip_ratio     diabetes  bmi-binned  \n",
       "patient_number                                            \n",
       "1                          0.84  No diabetes     Healthy  \n",
       "2                          0.83  No diabetes  Overweight  \n",
       "3                          0.89  No diabetes  Overweight  \n",
       "4                          0.79  No diabetes     Healthy  \n",
       "5                          0.82  No diabetes     Healthy  "
      ]
     },
     "execution_count": 16,
     "metadata": {},
     "output_type": "execute_result"
    }
   ],
   "source": [
    "df.head()"
   ]
  },
  {
   "cell_type": "markdown",
   "id": "e95b2cdd",
   "metadata": {},
   "source": [
    "<h4> Make dummy variables for column 'gender', 'bmi' , 'diabetes'"
   ]
  },
  {
   "cell_type": "code",
   "execution_count": 17,
   "id": "f9bf0c55",
   "metadata": {},
   "outputs": [
    {
     "data": {
      "text/html": [
       "<div>\n",
       "<style scoped>\n",
       "    .dataframe tbody tr th:only-of-type {\n",
       "        vertical-align: middle;\n",
       "    }\n",
       "\n",
       "    .dataframe tbody tr th {\n",
       "        vertical-align: top;\n",
       "    }\n",
       "\n",
       "    .dataframe thead th {\n",
       "        text-align: right;\n",
       "    }\n",
       "</style>\n",
       "<table border=\"1\" class=\"dataframe\">\n",
       "  <thead>\n",
       "    <tr style=\"text-align: right;\">\n",
       "      <th></th>\n",
       "      <th>female</th>\n",
       "      <th>male</th>\n",
       "    </tr>\n",
       "    <tr>\n",
       "      <th>patient_number</th>\n",
       "      <th></th>\n",
       "      <th></th>\n",
       "    </tr>\n",
       "  </thead>\n",
       "  <tbody>\n",
       "    <tr>\n",
       "      <th>1</th>\n",
       "      <td>1</td>\n",
       "      <td>0</td>\n",
       "    </tr>\n",
       "    <tr>\n",
       "      <th>2</th>\n",
       "      <td>1</td>\n",
       "      <td>0</td>\n",
       "    </tr>\n",
       "    <tr>\n",
       "      <th>3</th>\n",
       "      <td>1</td>\n",
       "      <td>0</td>\n",
       "    </tr>\n",
       "  </tbody>\n",
       "</table>\n",
       "</div>"
      ],
      "text/plain": [
       "                female  male\n",
       "patient_number              \n",
       "1                    1     0\n",
       "2                    1     0\n",
       "3                    1     0"
      ]
     },
     "execution_count": 17,
     "metadata": {},
     "output_type": "execute_result"
    }
   ],
   "source": [
    "dummy_variable_1 = pd.get_dummies(df[\"gender\"])\n",
    "dummy_variable_1.head(3)"
   ]
  },
  {
   "cell_type": "code",
   "execution_count": 18,
   "id": "40ad6310",
   "metadata": {},
   "outputs": [
    {
     "data": {
      "text/html": [
       "<div>\n",
       "<style scoped>\n",
       "    .dataframe tbody tr th:only-of-type {\n",
       "        vertical-align: middle;\n",
       "    }\n",
       "\n",
       "    .dataframe tbody tr th {\n",
       "        vertical-align: top;\n",
       "    }\n",
       "\n",
       "    .dataframe thead th {\n",
       "        text-align: right;\n",
       "    }\n",
       "</style>\n",
       "<table border=\"1\" class=\"dataframe\">\n",
       "  <thead>\n",
       "    <tr style=\"text-align: right;\">\n",
       "      <th></th>\n",
       "      <th>gender-female</th>\n",
       "      <th>gender-male</th>\n",
       "    </tr>\n",
       "    <tr>\n",
       "      <th>patient_number</th>\n",
       "      <th></th>\n",
       "      <th></th>\n",
       "    </tr>\n",
       "  </thead>\n",
       "  <tbody>\n",
       "    <tr>\n",
       "      <th>1</th>\n",
       "      <td>1</td>\n",
       "      <td>0</td>\n",
       "    </tr>\n",
       "    <tr>\n",
       "      <th>2</th>\n",
       "      <td>1</td>\n",
       "      <td>0</td>\n",
       "    </tr>\n",
       "    <tr>\n",
       "      <th>3</th>\n",
       "      <td>1</td>\n",
       "      <td>0</td>\n",
       "    </tr>\n",
       "    <tr>\n",
       "      <th>4</th>\n",
       "      <td>1</td>\n",
       "      <td>0</td>\n",
       "    </tr>\n",
       "    <tr>\n",
       "      <th>5</th>\n",
       "      <td>1</td>\n",
       "      <td>0</td>\n",
       "    </tr>\n",
       "  </tbody>\n",
       "</table>\n",
       "</div>"
      ],
      "text/plain": [
       "                gender-female  gender-male\n",
       "patient_number                            \n",
       "1                           1            0\n",
       "2                           1            0\n",
       "3                           1            0\n",
       "4                           1            0\n",
       "5                           1            0"
      ]
     },
     "execution_count": 18,
     "metadata": {},
     "output_type": "execute_result"
    }
   ],
   "source": [
    "dummy_variable_1.rename(columns={'female':'gender-female', 'male':'gender-male'}, inplace=True)\n",
    "dummy_variable_1.head()"
   ]
  },
  {
   "cell_type": "code",
   "execution_count": 19,
   "id": "c82bc998",
   "metadata": {},
   "outputs": [],
   "source": [
    "#concat the dummy to the dataframe df\n",
    "df = pd.concat([df, dummy_variable_1], axis=1)\n",
    "\n",
    "# drop original column \"gender\" from \"df\"\n",
    "df.drop(\"gender\", axis = 1, inplace=True)"
   ]
  },
  {
   "cell_type": "code",
   "execution_count": 20,
   "id": "006f7b77",
   "metadata": {
    "scrolled": true
   },
   "outputs": [],
   "source": [
    "#Second way of converting categorical to numerical variable\n",
    "df['bmi-binned'].replace(to_replace=group_names, value=[0,1,2,3],inplace=True)\n",
    "#df.head(3)"
   ]
  },
  {
   "cell_type": "code",
   "execution_count": 21,
   "id": "27fa8e0e",
   "metadata": {},
   "outputs": [
    {
     "data": {
      "text/plain": [
       "No diabetes    330\n",
       "Diabetes        60\n",
       "Name: diabetes, dtype: int64"
      ]
     },
     "execution_count": 21,
     "metadata": {},
     "output_type": "execute_result"
    }
   ],
   "source": [
    "df['diabetes'].value_counts()"
   ]
  },
  {
   "cell_type": "code",
   "execution_count": 22,
   "id": "83ad1333",
   "metadata": {},
   "outputs": [
    {
     "data": {
      "text/html": [
       "<div>\n",
       "<style scoped>\n",
       "    .dataframe tbody tr th:only-of-type {\n",
       "        vertical-align: middle;\n",
       "    }\n",
       "\n",
       "    .dataframe tbody tr th {\n",
       "        vertical-align: top;\n",
       "    }\n",
       "\n",
       "    .dataframe thead th {\n",
       "        text-align: right;\n",
       "    }\n",
       "</style>\n",
       "<table border=\"1\" class=\"dataframe\">\n",
       "  <thead>\n",
       "    <tr style=\"text-align: right;\">\n",
       "      <th></th>\n",
       "      <th>cholesterol</th>\n",
       "      <th>glucose</th>\n",
       "      <th>hdl_chol</th>\n",
       "      <th>chol_hdl_ratio</th>\n",
       "      <th>age</th>\n",
       "      <th>height</th>\n",
       "      <th>weight</th>\n",
       "      <th>bmi</th>\n",
       "      <th>systolic_bp</th>\n",
       "      <th>diastolic_bp</th>\n",
       "      <th>waist</th>\n",
       "      <th>hip</th>\n",
       "      <th>waist_hip_ratio</th>\n",
       "      <th>diabetes</th>\n",
       "      <th>bmi-binned</th>\n",
       "      <th>gender-female</th>\n",
       "      <th>gender-male</th>\n",
       "    </tr>\n",
       "    <tr>\n",
       "      <th>patient_number</th>\n",
       "      <th></th>\n",
       "      <th></th>\n",
       "      <th></th>\n",
       "      <th></th>\n",
       "      <th></th>\n",
       "      <th></th>\n",
       "      <th></th>\n",
       "      <th></th>\n",
       "      <th></th>\n",
       "      <th></th>\n",
       "      <th></th>\n",
       "      <th></th>\n",
       "      <th></th>\n",
       "      <th></th>\n",
       "      <th></th>\n",
       "      <th></th>\n",
       "      <th></th>\n",
       "    </tr>\n",
       "  </thead>\n",
       "  <tbody>\n",
       "    <tr>\n",
       "      <th>1</th>\n",
       "      <td>193</td>\n",
       "      <td>77</td>\n",
       "      <td>49</td>\n",
       "      <td>3.9</td>\n",
       "      <td>19</td>\n",
       "      <td>61</td>\n",
       "      <td>119</td>\n",
       "      <td>22.5</td>\n",
       "      <td>118</td>\n",
       "      <td>70</td>\n",
       "      <td>32</td>\n",
       "      <td>38</td>\n",
       "      <td>0.84</td>\n",
       "      <td>0</td>\n",
       "      <td>1</td>\n",
       "      <td>1</td>\n",
       "      <td>0</td>\n",
       "    </tr>\n",
       "    <tr>\n",
       "      <th>2</th>\n",
       "      <td>146</td>\n",
       "      <td>79</td>\n",
       "      <td>41</td>\n",
       "      <td>3.6</td>\n",
       "      <td>19</td>\n",
       "      <td>60</td>\n",
       "      <td>135</td>\n",
       "      <td>26.4</td>\n",
       "      <td>108</td>\n",
       "      <td>58</td>\n",
       "      <td>33</td>\n",
       "      <td>40</td>\n",
       "      <td>0.83</td>\n",
       "      <td>0</td>\n",
       "      <td>2</td>\n",
       "      <td>1</td>\n",
       "      <td>0</td>\n",
       "    </tr>\n",
       "    <tr>\n",
       "      <th>3</th>\n",
       "      <td>217</td>\n",
       "      <td>75</td>\n",
       "      <td>54</td>\n",
       "      <td>4.0</td>\n",
       "      <td>20</td>\n",
       "      <td>67</td>\n",
       "      <td>187</td>\n",
       "      <td>29.3</td>\n",
       "      <td>110</td>\n",
       "      <td>72</td>\n",
       "      <td>40</td>\n",
       "      <td>45</td>\n",
       "      <td>0.89</td>\n",
       "      <td>0</td>\n",
       "      <td>2</td>\n",
       "      <td>1</td>\n",
       "      <td>0</td>\n",
       "    </tr>\n",
       "  </tbody>\n",
       "</table>\n",
       "</div>"
      ],
      "text/plain": [
       "                cholesterol  glucose  hdl_chol  chol_hdl_ratio  age  height  \\\n",
       "patient_number                                                                \n",
       "1                       193       77        49             3.9   19      61   \n",
       "2                       146       79        41             3.6   19      60   \n",
       "3                       217       75        54             4.0   20      67   \n",
       "\n",
       "                weight   bmi  systolic_bp  diastolic_bp  waist  hip  \\\n",
       "patient_number                                                        \n",
       "1                  119  22.5          118            70     32   38   \n",
       "2                  135  26.4          108            58     33   40   \n",
       "3                  187  29.3          110            72     40   45   \n",
       "\n",
       "                waist_hip_ratio  diabetes  bmi-binned  gender-female  \\\n",
       "patient_number                                                         \n",
       "1                          0.84         0           1              1   \n",
       "2                          0.83         0           2              1   \n",
       "3                          0.89         0           2              1   \n",
       "\n",
       "                gender-male  \n",
       "patient_number               \n",
       "1                         0  \n",
       "2                         0  \n",
       "3                         0  "
      ]
     },
     "execution_count": 22,
     "metadata": {},
     "output_type": "execute_result"
    }
   ],
   "source": [
    "df['diabetes'].replace(to_replace=[\"Diabetes\",\"No diabetes\"], value=[1,0],inplace=True)\n",
    "df.head(3)"
   ]
  },
  {
   "cell_type": "code",
   "execution_count": 23,
   "id": "d187f483",
   "metadata": {},
   "outputs": [],
   "source": [
    "#drop unnecessary coulumns\n",
    "df.drop(['bmi',], axis = 1, inplace=True)"
   ]
  },
  {
   "cell_type": "code",
   "execution_count": 24,
   "id": "8f935e0d",
   "metadata": {},
   "outputs": [],
   "source": [
    "df.rename(columns={'height':'weight', 'weight':'height'}, inplace=True)\n",
    "#df.head(3)"
   ]
  },
  {
   "cell_type": "code",
   "execution_count": 25,
   "id": "26bf52b0",
   "metadata": {},
   "outputs": [
    {
     "data": {
      "text/html": [
       "<div>\n",
       "<style scoped>\n",
       "    .dataframe tbody tr th:only-of-type {\n",
       "        vertical-align: middle;\n",
       "    }\n",
       "\n",
       "    .dataframe tbody tr th {\n",
       "        vertical-align: top;\n",
       "    }\n",
       "\n",
       "    .dataframe thead th {\n",
       "        text-align: right;\n",
       "    }\n",
       "</style>\n",
       "<table border=\"1\" class=\"dataframe\">\n",
       "  <thead>\n",
       "    <tr style=\"text-align: right;\">\n",
       "      <th></th>\n",
       "      <th>cholesterol</th>\n",
       "      <th>glucose</th>\n",
       "      <th>hdl_chol</th>\n",
       "      <th>chol_hdl_ratio</th>\n",
       "      <th>age</th>\n",
       "      <th>weight</th>\n",
       "      <th>height</th>\n",
       "      <th>systolic_bp</th>\n",
       "      <th>diastolic_bp</th>\n",
       "      <th>waist</th>\n",
       "      <th>hip</th>\n",
       "      <th>waist_hip_ratio</th>\n",
       "      <th>diabetes</th>\n",
       "      <th>bmi-binned</th>\n",
       "      <th>gender-female</th>\n",
       "      <th>gender-male</th>\n",
       "    </tr>\n",
       "    <tr>\n",
       "      <th>patient_number</th>\n",
       "      <th></th>\n",
       "      <th></th>\n",
       "      <th></th>\n",
       "      <th></th>\n",
       "      <th></th>\n",
       "      <th></th>\n",
       "      <th></th>\n",
       "      <th></th>\n",
       "      <th></th>\n",
       "      <th></th>\n",
       "      <th></th>\n",
       "      <th></th>\n",
       "      <th></th>\n",
       "      <th></th>\n",
       "      <th></th>\n",
       "      <th></th>\n",
       "    </tr>\n",
       "  </thead>\n",
       "  <tbody>\n",
       "    <tr>\n",
       "      <th>1</th>\n",
       "      <td>193</td>\n",
       "      <td>77</td>\n",
       "      <td>49</td>\n",
       "      <td>3.9</td>\n",
       "      <td>19</td>\n",
       "      <td>61</td>\n",
       "      <td>119</td>\n",
       "      <td>118</td>\n",
       "      <td>70</td>\n",
       "      <td>32</td>\n",
       "      <td>38</td>\n",
       "      <td>0.84</td>\n",
       "      <td>0</td>\n",
       "      <td>1</td>\n",
       "      <td>1</td>\n",
       "      <td>0</td>\n",
       "    </tr>\n",
       "    <tr>\n",
       "      <th>2</th>\n",
       "      <td>146</td>\n",
       "      <td>79</td>\n",
       "      <td>41</td>\n",
       "      <td>3.6</td>\n",
       "      <td>19</td>\n",
       "      <td>60</td>\n",
       "      <td>135</td>\n",
       "      <td>108</td>\n",
       "      <td>58</td>\n",
       "      <td>33</td>\n",
       "      <td>40</td>\n",
       "      <td>0.83</td>\n",
       "      <td>0</td>\n",
       "      <td>2</td>\n",
       "      <td>1</td>\n",
       "      <td>0</td>\n",
       "    </tr>\n",
       "    <tr>\n",
       "      <th>3</th>\n",
       "      <td>217</td>\n",
       "      <td>75</td>\n",
       "      <td>54</td>\n",
       "      <td>4.0</td>\n",
       "      <td>20</td>\n",
       "      <td>67</td>\n",
       "      <td>187</td>\n",
       "      <td>110</td>\n",
       "      <td>72</td>\n",
       "      <td>40</td>\n",
       "      <td>45</td>\n",
       "      <td>0.89</td>\n",
       "      <td>0</td>\n",
       "      <td>2</td>\n",
       "      <td>1</td>\n",
       "      <td>0</td>\n",
       "    </tr>\n",
       "    <tr>\n",
       "      <th>4</th>\n",
       "      <td>226</td>\n",
       "      <td>97</td>\n",
       "      <td>70</td>\n",
       "      <td>3.2</td>\n",
       "      <td>20</td>\n",
       "      <td>64</td>\n",
       "      <td>114</td>\n",
       "      <td>122</td>\n",
       "      <td>64</td>\n",
       "      <td>31</td>\n",
       "      <td>39</td>\n",
       "      <td>0.79</td>\n",
       "      <td>0</td>\n",
       "      <td>1</td>\n",
       "      <td>1</td>\n",
       "      <td>0</td>\n",
       "    </tr>\n",
       "    <tr>\n",
       "      <th>5</th>\n",
       "      <td>164</td>\n",
       "      <td>91</td>\n",
       "      <td>67</td>\n",
       "      <td>2.4</td>\n",
       "      <td>20</td>\n",
       "      <td>70</td>\n",
       "      <td>141</td>\n",
       "      <td>122</td>\n",
       "      <td>86</td>\n",
       "      <td>32</td>\n",
       "      <td>39</td>\n",
       "      <td>0.82</td>\n",
       "      <td>0</td>\n",
       "      <td>1</td>\n",
       "      <td>1</td>\n",
       "      <td>0</td>\n",
       "    </tr>\n",
       "  </tbody>\n",
       "</table>\n",
       "</div>"
      ],
      "text/plain": [
       "                cholesterol  glucose  hdl_chol  chol_hdl_ratio  age  weight  \\\n",
       "patient_number                                                                \n",
       "1                       193       77        49             3.9   19      61   \n",
       "2                       146       79        41             3.6   19      60   \n",
       "3                       217       75        54             4.0   20      67   \n",
       "4                       226       97        70             3.2   20      64   \n",
       "5                       164       91        67             2.4   20      70   \n",
       "\n",
       "                height  systolic_bp  diastolic_bp  waist  hip  \\\n",
       "patient_number                                                  \n",
       "1                  119          118            70     32   38   \n",
       "2                  135          108            58     33   40   \n",
       "3                  187          110            72     40   45   \n",
       "4                  114          122            64     31   39   \n",
       "5                  141          122            86     32   39   \n",
       "\n",
       "                waist_hip_ratio  diabetes  bmi-binned  gender-female  \\\n",
       "patient_number                                                         \n",
       "1                          0.84         0           1              1   \n",
       "2                          0.83         0           2              1   \n",
       "3                          0.89         0           2              1   \n",
       "4                          0.79         0           1              1   \n",
       "5                          0.82         0           1              1   \n",
       "\n",
       "                gender-male  \n",
       "patient_number               \n",
       "1                         0  \n",
       "2                         0  \n",
       "3                         0  \n",
       "4                         0  \n",
       "5                         0  "
      ]
     },
     "execution_count": 25,
     "metadata": {},
     "output_type": "execute_result"
    }
   ],
   "source": [
    "df.head()"
   ]
  },
  {
   "cell_type": "code",
   "execution_count": 26,
   "id": "d127f251",
   "metadata": {},
   "outputs": [
    {
     "data": {
      "text/plain": [
       "bmi-binned  diabetes\n",
       "0           0           1.000000\n",
       "1           0           0.918919\n",
       "            1           0.081081\n",
       "2           0           0.827869\n",
       "            1           0.172131\n",
       "3           0           0.797297\n",
       "            1           0.202703\n",
       "Name: diabetes, dtype: float64"
      ]
     },
     "execution_count": 26,
     "metadata": {},
     "output_type": "execute_result"
    }
   ],
   "source": [
    "df.groupby(['bmi-binned'])['diabetes'].value_counts(normalize=True)"
   ]
  },
  {
   "cell_type": "code",
   "execution_count": 27,
   "id": "8ab507f0",
   "metadata": {},
   "outputs": [
    {
     "data": {
      "text/plain": [
       "gender-male  diabetes\n",
       "0            0           0.850877\n",
       "             1           0.149123\n",
       "1            0           0.839506\n",
       "             1           0.160494\n",
       "Name: diabetes, dtype: float64"
      ]
     },
     "execution_count": 27,
     "metadata": {},
     "output_type": "execute_result"
    }
   ],
   "source": [
    "df.groupby(['gender-male'])['diabetes'].value_counts(normalize=True)"
   ]
  },
  {
   "cell_type": "markdown",
   "id": "93728082",
   "metadata": {},
   "source": [
    "<h3>EDA</h3>"
   ]
  },
  {
   "cell_type": "code",
   "execution_count": 28,
   "id": "423f4084",
   "metadata": {},
   "outputs": [
    {
     "data": {
      "text/html": [
       "<div>\n",
       "<style scoped>\n",
       "    .dataframe tbody tr th:only-of-type {\n",
       "        vertical-align: middle;\n",
       "    }\n",
       "\n",
       "    .dataframe tbody tr th {\n",
       "        vertical-align: top;\n",
       "    }\n",
       "\n",
       "    .dataframe thead th {\n",
       "        text-align: right;\n",
       "    }\n",
       "</style>\n",
       "<table border=\"1\" class=\"dataframe\">\n",
       "  <thead>\n",
       "    <tr style=\"text-align: right;\">\n",
       "      <th></th>\n",
       "      <th>cholesterol</th>\n",
       "      <th>glucose</th>\n",
       "      <th>hdl_chol</th>\n",
       "      <th>chol_hdl_ratio</th>\n",
       "      <th>age</th>\n",
       "      <th>weight</th>\n",
       "      <th>height</th>\n",
       "      <th>systolic_bp</th>\n",
       "      <th>diastolic_bp</th>\n",
       "      <th>waist</th>\n",
       "      <th>hip</th>\n",
       "      <th>waist_hip_ratio</th>\n",
       "      <th>diabetes</th>\n",
       "      <th>bmi-binned</th>\n",
       "      <th>gender-female</th>\n",
       "      <th>gender-male</th>\n",
       "    </tr>\n",
       "  </thead>\n",
       "  <tbody>\n",
       "    <tr>\n",
       "      <th>cholesterol</th>\n",
       "      <td>1.000000</td>\n",
       "      <td>0.158102</td>\n",
       "      <td>0.193162</td>\n",
       "      <td>0.475927</td>\n",
       "      <td>0.247333</td>\n",
       "      <td>-0.063601</td>\n",
       "      <td>0.062359</td>\n",
       "      <td>0.207741</td>\n",
       "      <td>0.166241</td>\n",
       "      <td>0.134038</td>\n",
       "      <td>0.093364</td>\n",
       "      <td>0.091847</td>\n",
       "      <td>0.204262</td>\n",
       "      <td>0.111247</td>\n",
       "      <td>0.030139</td>\n",
       "      <td>-0.030139</td>\n",
       "    </tr>\n",
       "    <tr>\n",
       "      <th>glucose</th>\n",
       "      <td>0.158102</td>\n",
       "      <td>1.000000</td>\n",
       "      <td>-0.158302</td>\n",
       "      <td>0.282210</td>\n",
       "      <td>0.294392</td>\n",
       "      <td>0.098052</td>\n",
       "      <td>0.190358</td>\n",
       "      <td>0.162777</td>\n",
       "      <td>0.020262</td>\n",
       "      <td>0.222336</td>\n",
       "      <td>0.138223</td>\n",
       "      <td>0.185117</td>\n",
       "      <td>0.689080</td>\n",
       "      <td>0.145889</td>\n",
       "      <td>-0.093372</td>\n",
       "      <td>0.093372</td>\n",
       "    </tr>\n",
       "    <tr>\n",
       "      <th>hdl_chol</th>\n",
       "      <td>0.193162</td>\n",
       "      <td>-0.158302</td>\n",
       "      <td>1.000000</td>\n",
       "      <td>-0.681867</td>\n",
       "      <td>0.028210</td>\n",
       "      <td>-0.087238</td>\n",
       "      <td>-0.291883</td>\n",
       "      <td>0.031807</td>\n",
       "      <td>0.078342</td>\n",
       "      <td>-0.276697</td>\n",
       "      <td>-0.223837</td>\n",
       "      <td>-0.158777</td>\n",
       "      <td>-0.123133</td>\n",
       "      <td>-0.268484</td>\n",
       "      <td>0.108305</td>\n",
       "      <td>-0.108305</td>\n",
       "    </tr>\n",
       "    <tr>\n",
       "      <th>chol_hdl_ratio</th>\n",
       "      <td>0.475927</td>\n",
       "      <td>0.282210</td>\n",
       "      <td>-0.681867</td>\n",
       "      <td>1.000000</td>\n",
       "      <td>0.163201</td>\n",
       "      <td>0.081162</td>\n",
       "      <td>0.278812</td>\n",
       "      <td>0.115505</td>\n",
       "      <td>0.038242</td>\n",
       "      <td>0.313262</td>\n",
       "      <td>0.208902</td>\n",
       "      <td>0.243329</td>\n",
       "      <td>0.272987</td>\n",
       "      <td>0.269051</td>\n",
       "      <td>-0.102938</td>\n",
       "      <td>0.102938</td>\n",
       "    </tr>\n",
       "    <tr>\n",
       "      <th>age</th>\n",
       "      <td>0.247333</td>\n",
       "      <td>0.294392</td>\n",
       "      <td>0.028210</td>\n",
       "      <td>0.163201</td>\n",
       "      <td>1.000000</td>\n",
       "      <td>-0.082229</td>\n",
       "      <td>-0.056784</td>\n",
       "      <td>0.453417</td>\n",
       "      <td>0.068649</td>\n",
       "      <td>0.150585</td>\n",
       "      <td>0.004675</td>\n",
       "      <td>0.275188</td>\n",
       "      <td>0.301995</td>\n",
       "      <td>0.016601</td>\n",
       "      <td>-0.084177</td>\n",
       "      <td>0.084177</td>\n",
       "    </tr>\n",
       "    <tr>\n",
       "      <th>weight</th>\n",
       "      <td>-0.063601</td>\n",
       "      <td>0.098052</td>\n",
       "      <td>-0.087238</td>\n",
       "      <td>0.081162</td>\n",
       "      <td>-0.082229</td>\n",
       "      <td>1.000000</td>\n",
       "      <td>0.255389</td>\n",
       "      <td>-0.040704</td>\n",
       "      <td>0.043617</td>\n",
       "      <td>0.057447</td>\n",
       "      <td>-0.095906</td>\n",
       "      <td>0.252548</td>\n",
       "      <td>0.023466</td>\n",
       "      <td>-0.249782</td>\n",
       "      <td>-0.677876</td>\n",
       "      <td>0.677876</td>\n",
       "    </tr>\n",
       "    <tr>\n",
       "      <th>height</th>\n",
       "      <td>0.062359</td>\n",
       "      <td>0.190358</td>\n",
       "      <td>-0.291883</td>\n",
       "      <td>0.278812</td>\n",
       "      <td>-0.056784</td>\n",
       "      <td>0.255389</td>\n",
       "      <td>1.000000</td>\n",
       "      <td>0.097497</td>\n",
       "      <td>0.166477</td>\n",
       "      <td>0.847766</td>\n",
       "      <td>0.826985</td>\n",
       "      <td>0.250461</td>\n",
       "      <td>0.162987</td>\n",
       "      <td>0.735959</td>\n",
       "      <td>-0.092053</td>\n",
       "      <td>0.092053</td>\n",
       "    </tr>\n",
       "    <tr>\n",
       "      <th>systolic_bp</th>\n",
       "      <td>0.207741</td>\n",
       "      <td>0.162777</td>\n",
       "      <td>0.031807</td>\n",
       "      <td>0.115505</td>\n",
       "      <td>0.453417</td>\n",
       "      <td>-0.040704</td>\n",
       "      <td>0.097497</td>\n",
       "      <td>1.000000</td>\n",
       "      <td>0.603662</td>\n",
       "      <td>0.210934</td>\n",
       "      <td>0.155321</td>\n",
       "      <td>0.137871</td>\n",
       "      <td>0.198600</td>\n",
       "      <td>0.122544</td>\n",
       "      <td>-0.035417</td>\n",
       "      <td>0.035417</td>\n",
       "    </tr>\n",
       "    <tr>\n",
       "      <th>diastolic_bp</th>\n",
       "      <td>0.166241</td>\n",
       "      <td>0.020262</td>\n",
       "      <td>0.078342</td>\n",
       "      <td>0.038242</td>\n",
       "      <td>0.068649</td>\n",
       "      <td>0.043617</td>\n",
       "      <td>0.166477</td>\n",
       "      <td>0.603662</td>\n",
       "      <td>1.000000</td>\n",
       "      <td>0.165846</td>\n",
       "      <td>0.143898</td>\n",
       "      <td>0.077918</td>\n",
       "      <td>0.049351</td>\n",
       "      <td>0.112694</td>\n",
       "      <td>-0.071043</td>\n",
       "      <td>0.071043</td>\n",
       "    </tr>\n",
       "    <tr>\n",
       "      <th>waist</th>\n",
       "      <td>0.134038</td>\n",
       "      <td>0.222336</td>\n",
       "      <td>-0.276697</td>\n",
       "      <td>0.313262</td>\n",
       "      <td>0.150585</td>\n",
       "      <td>0.057447</td>\n",
       "      <td>0.847766</td>\n",
       "      <td>0.210934</td>\n",
       "      <td>0.165846</td>\n",
       "      <td>1.000000</td>\n",
       "      <td>0.835177</td>\n",
       "      <td>0.514177</td>\n",
       "      <td>0.223378</td>\n",
       "      <td>0.719269</td>\n",
       "      <td>0.045955</td>\n",
       "      <td>-0.045955</td>\n",
       "    </tr>\n",
       "    <tr>\n",
       "      <th>hip</th>\n",
       "      <td>0.093364</td>\n",
       "      <td>0.138223</td>\n",
       "      <td>-0.223837</td>\n",
       "      <td>0.208902</td>\n",
       "      <td>0.004675</td>\n",
       "      <td>-0.095906</td>\n",
       "      <td>0.826985</td>\n",
       "      <td>0.155321</td>\n",
       "      <td>0.143898</td>\n",
       "      <td>0.835177</td>\n",
       "      <td>1.000000</td>\n",
       "      <td>-0.037664</td>\n",
       "      <td>0.143792</td>\n",
       "      <td>0.749106</td>\n",
       "      <td>0.272028</td>\n",
       "      <td>-0.272028</td>\n",
       "    </tr>\n",
       "    <tr>\n",
       "      <th>waist_hip_ratio</th>\n",
       "      <td>0.091847</td>\n",
       "      <td>0.185117</td>\n",
       "      <td>-0.158777</td>\n",
       "      <td>0.243329</td>\n",
       "      <td>0.275188</td>\n",
       "      <td>0.252548</td>\n",
       "      <td>0.250461</td>\n",
       "      <td>0.137871</td>\n",
       "      <td>0.077918</td>\n",
       "      <td>0.514177</td>\n",
       "      <td>-0.037664</td>\n",
       "      <td>1.000000</td>\n",
       "      <td>0.175623</td>\n",
       "      <td>0.139475</td>\n",
       "      <td>-0.346253</td>\n",
       "      <td>0.346253</td>\n",
       "    </tr>\n",
       "    <tr>\n",
       "      <th>diabetes</th>\n",
       "      <td>0.204262</td>\n",
       "      <td>0.689080</td>\n",
       "      <td>-0.123133</td>\n",
       "      <td>0.272987</td>\n",
       "      <td>0.301995</td>\n",
       "      <td>0.023466</td>\n",
       "      <td>0.162987</td>\n",
       "      <td>0.198600</td>\n",
       "      <td>0.049351</td>\n",
       "      <td>0.223378</td>\n",
       "      <td>0.143792</td>\n",
       "      <td>0.175623</td>\n",
       "      <td>1.000000</td>\n",
       "      <td>0.147943</td>\n",
       "      <td>-0.015531</td>\n",
       "      <td>0.015531</td>\n",
       "    </tr>\n",
       "    <tr>\n",
       "      <th>bmi-binned</th>\n",
       "      <td>0.111247</td>\n",
       "      <td>0.145889</td>\n",
       "      <td>-0.268484</td>\n",
       "      <td>0.269051</td>\n",
       "      <td>0.016601</td>\n",
       "      <td>-0.249782</td>\n",
       "      <td>0.735959</td>\n",
       "      <td>0.122544</td>\n",
       "      <td>0.112694</td>\n",
       "      <td>0.719269</td>\n",
       "      <td>0.749106</td>\n",
       "      <td>0.139475</td>\n",
       "      <td>0.147943</td>\n",
       "      <td>1.000000</td>\n",
       "      <td>0.245031</td>\n",
       "      <td>-0.245031</td>\n",
       "    </tr>\n",
       "    <tr>\n",
       "      <th>gender-female</th>\n",
       "      <td>0.030139</td>\n",
       "      <td>-0.093372</td>\n",
       "      <td>0.108305</td>\n",
       "      <td>-0.102938</td>\n",
       "      <td>-0.084177</td>\n",
       "      <td>-0.677876</td>\n",
       "      <td>-0.092053</td>\n",
       "      <td>-0.035417</td>\n",
       "      <td>-0.071043</td>\n",
       "      <td>0.045955</td>\n",
       "      <td>0.272028</td>\n",
       "      <td>-0.346253</td>\n",
       "      <td>-0.015531</td>\n",
       "      <td>0.245031</td>\n",
       "      <td>1.000000</td>\n",
       "      <td>-1.000000</td>\n",
       "    </tr>\n",
       "    <tr>\n",
       "      <th>gender-male</th>\n",
       "      <td>-0.030139</td>\n",
       "      <td>0.093372</td>\n",
       "      <td>-0.108305</td>\n",
       "      <td>0.102938</td>\n",
       "      <td>0.084177</td>\n",
       "      <td>0.677876</td>\n",
       "      <td>0.092053</td>\n",
       "      <td>0.035417</td>\n",
       "      <td>0.071043</td>\n",
       "      <td>-0.045955</td>\n",
       "      <td>-0.272028</td>\n",
       "      <td>0.346253</td>\n",
       "      <td>0.015531</td>\n",
       "      <td>-0.245031</td>\n",
       "      <td>-1.000000</td>\n",
       "      <td>1.000000</td>\n",
       "    </tr>\n",
       "  </tbody>\n",
       "</table>\n",
       "</div>"
      ],
      "text/plain": [
       "                 cholesterol   glucose  hdl_chol  chol_hdl_ratio       age  \\\n",
       "cholesterol         1.000000  0.158102  0.193162        0.475927  0.247333   \n",
       "glucose             0.158102  1.000000 -0.158302        0.282210  0.294392   \n",
       "hdl_chol            0.193162 -0.158302  1.000000       -0.681867  0.028210   \n",
       "chol_hdl_ratio      0.475927  0.282210 -0.681867        1.000000  0.163201   \n",
       "age                 0.247333  0.294392  0.028210        0.163201  1.000000   \n",
       "weight             -0.063601  0.098052 -0.087238        0.081162 -0.082229   \n",
       "height              0.062359  0.190358 -0.291883        0.278812 -0.056784   \n",
       "systolic_bp         0.207741  0.162777  0.031807        0.115505  0.453417   \n",
       "diastolic_bp        0.166241  0.020262  0.078342        0.038242  0.068649   \n",
       "waist               0.134038  0.222336 -0.276697        0.313262  0.150585   \n",
       "hip                 0.093364  0.138223 -0.223837        0.208902  0.004675   \n",
       "waist_hip_ratio     0.091847  0.185117 -0.158777        0.243329  0.275188   \n",
       "diabetes            0.204262  0.689080 -0.123133        0.272987  0.301995   \n",
       "bmi-binned          0.111247  0.145889 -0.268484        0.269051  0.016601   \n",
       "gender-female       0.030139 -0.093372  0.108305       -0.102938 -0.084177   \n",
       "gender-male        -0.030139  0.093372 -0.108305        0.102938  0.084177   \n",
       "\n",
       "                   weight    height  systolic_bp  diastolic_bp     waist  \\\n",
       "cholesterol     -0.063601  0.062359     0.207741      0.166241  0.134038   \n",
       "glucose          0.098052  0.190358     0.162777      0.020262  0.222336   \n",
       "hdl_chol        -0.087238 -0.291883     0.031807      0.078342 -0.276697   \n",
       "chol_hdl_ratio   0.081162  0.278812     0.115505      0.038242  0.313262   \n",
       "age             -0.082229 -0.056784     0.453417      0.068649  0.150585   \n",
       "weight           1.000000  0.255389    -0.040704      0.043617  0.057447   \n",
       "height           0.255389  1.000000     0.097497      0.166477  0.847766   \n",
       "systolic_bp     -0.040704  0.097497     1.000000      0.603662  0.210934   \n",
       "diastolic_bp     0.043617  0.166477     0.603662      1.000000  0.165846   \n",
       "waist            0.057447  0.847766     0.210934      0.165846  1.000000   \n",
       "hip             -0.095906  0.826985     0.155321      0.143898  0.835177   \n",
       "waist_hip_ratio  0.252548  0.250461     0.137871      0.077918  0.514177   \n",
       "diabetes         0.023466  0.162987     0.198600      0.049351  0.223378   \n",
       "bmi-binned      -0.249782  0.735959     0.122544      0.112694  0.719269   \n",
       "gender-female   -0.677876 -0.092053    -0.035417     -0.071043  0.045955   \n",
       "gender-male      0.677876  0.092053     0.035417      0.071043 -0.045955   \n",
       "\n",
       "                      hip  waist_hip_ratio  diabetes  bmi-binned  \\\n",
       "cholesterol      0.093364         0.091847  0.204262    0.111247   \n",
       "glucose          0.138223         0.185117  0.689080    0.145889   \n",
       "hdl_chol        -0.223837        -0.158777 -0.123133   -0.268484   \n",
       "chol_hdl_ratio   0.208902         0.243329  0.272987    0.269051   \n",
       "age              0.004675         0.275188  0.301995    0.016601   \n",
       "weight          -0.095906         0.252548  0.023466   -0.249782   \n",
       "height           0.826985         0.250461  0.162987    0.735959   \n",
       "systolic_bp      0.155321         0.137871  0.198600    0.122544   \n",
       "diastolic_bp     0.143898         0.077918  0.049351    0.112694   \n",
       "waist            0.835177         0.514177  0.223378    0.719269   \n",
       "hip              1.000000        -0.037664  0.143792    0.749106   \n",
       "waist_hip_ratio -0.037664         1.000000  0.175623    0.139475   \n",
       "diabetes         0.143792         0.175623  1.000000    0.147943   \n",
       "bmi-binned       0.749106         0.139475  0.147943    1.000000   \n",
       "gender-female    0.272028        -0.346253 -0.015531    0.245031   \n",
       "gender-male     -0.272028         0.346253  0.015531   -0.245031   \n",
       "\n",
       "                 gender-female  gender-male  \n",
       "cholesterol           0.030139    -0.030139  \n",
       "glucose              -0.093372     0.093372  \n",
       "hdl_chol              0.108305    -0.108305  \n",
       "chol_hdl_ratio       -0.102938     0.102938  \n",
       "age                  -0.084177     0.084177  \n",
       "weight               -0.677876     0.677876  \n",
       "height               -0.092053     0.092053  \n",
       "systolic_bp          -0.035417     0.035417  \n",
       "diastolic_bp         -0.071043     0.071043  \n",
       "waist                 0.045955    -0.045955  \n",
       "hip                   0.272028    -0.272028  \n",
       "waist_hip_ratio      -0.346253     0.346253  \n",
       "diabetes             -0.015531     0.015531  \n",
       "bmi-binned            0.245031    -0.245031  \n",
       "gender-female         1.000000    -1.000000  \n",
       "gender-male          -1.000000     1.000000  "
      ]
     },
     "execution_count": 28,
     "metadata": {},
     "output_type": "execute_result"
    }
   ],
   "source": [
    "df.corr()"
   ]
  },
  {
   "cell_type": "code",
   "execution_count": 29,
   "id": "7b4bee57",
   "metadata": {},
   "outputs": [
    {
     "data": {
      "text/html": [
       "<div>\n",
       "<style scoped>\n",
       "    .dataframe tbody tr th:only-of-type {\n",
       "        vertical-align: middle;\n",
       "    }\n",
       "\n",
       "    .dataframe tbody tr th {\n",
       "        vertical-align: top;\n",
       "    }\n",
       "\n",
       "    .dataframe thead th {\n",
       "        text-align: right;\n",
       "    }\n",
       "</style>\n",
       "<table border=\"1\" class=\"dataframe\">\n",
       "  <thead>\n",
       "    <tr style=\"text-align: right;\">\n",
       "      <th></th>\n",
       "      <th>cholesterol</th>\n",
       "      <th>glucose</th>\n",
       "      <th>hdl_chol</th>\n",
       "      <th>chol_hdl_ratio</th>\n",
       "      <th>age</th>\n",
       "      <th>weight</th>\n",
       "      <th>height</th>\n",
       "      <th>systolic_bp</th>\n",
       "      <th>diastolic_bp</th>\n",
       "      <th>waist</th>\n",
       "      <th>hip</th>\n",
       "      <th>waist_hip_ratio</th>\n",
       "      <th>diabetes</th>\n",
       "      <th>bmi-binned</th>\n",
       "      <th>gender-female</th>\n",
       "      <th>gender-male</th>\n",
       "    </tr>\n",
       "    <tr>\n",
       "      <th>patient_number</th>\n",
       "      <th></th>\n",
       "      <th></th>\n",
       "      <th></th>\n",
       "      <th></th>\n",
       "      <th></th>\n",
       "      <th></th>\n",
       "      <th></th>\n",
       "      <th></th>\n",
       "      <th></th>\n",
       "      <th></th>\n",
       "      <th></th>\n",
       "      <th></th>\n",
       "      <th></th>\n",
       "      <th></th>\n",
       "      <th></th>\n",
       "      <th></th>\n",
       "    </tr>\n",
       "  </thead>\n",
       "  <tbody>\n",
       "    <tr>\n",
       "      <th>1</th>\n",
       "      <td>193</td>\n",
       "      <td>77</td>\n",
       "      <td>49</td>\n",
       "      <td>3.9</td>\n",
       "      <td>19</td>\n",
       "      <td>61</td>\n",
       "      <td>119</td>\n",
       "      <td>118</td>\n",
       "      <td>70</td>\n",
       "      <td>32</td>\n",
       "      <td>38</td>\n",
       "      <td>0.84</td>\n",
       "      <td>0</td>\n",
       "      <td>1</td>\n",
       "      <td>1</td>\n",
       "      <td>0</td>\n",
       "    </tr>\n",
       "    <tr>\n",
       "      <th>2</th>\n",
       "      <td>146</td>\n",
       "      <td>79</td>\n",
       "      <td>41</td>\n",
       "      <td>3.6</td>\n",
       "      <td>19</td>\n",
       "      <td>60</td>\n",
       "      <td>135</td>\n",
       "      <td>108</td>\n",
       "      <td>58</td>\n",
       "      <td>33</td>\n",
       "      <td>40</td>\n",
       "      <td>0.83</td>\n",
       "      <td>0</td>\n",
       "      <td>2</td>\n",
       "      <td>1</td>\n",
       "      <td>0</td>\n",
       "    </tr>\n",
       "    <tr>\n",
       "      <th>3</th>\n",
       "      <td>217</td>\n",
       "      <td>75</td>\n",
       "      <td>54</td>\n",
       "      <td>4.0</td>\n",
       "      <td>20</td>\n",
       "      <td>67</td>\n",
       "      <td>187</td>\n",
       "      <td>110</td>\n",
       "      <td>72</td>\n",
       "      <td>40</td>\n",
       "      <td>45</td>\n",
       "      <td>0.89</td>\n",
       "      <td>0</td>\n",
       "      <td>2</td>\n",
       "      <td>1</td>\n",
       "      <td>0</td>\n",
       "    </tr>\n",
       "    <tr>\n",
       "      <th>4</th>\n",
       "      <td>226</td>\n",
       "      <td>97</td>\n",
       "      <td>70</td>\n",
       "      <td>3.2</td>\n",
       "      <td>20</td>\n",
       "      <td>64</td>\n",
       "      <td>114</td>\n",
       "      <td>122</td>\n",
       "      <td>64</td>\n",
       "      <td>31</td>\n",
       "      <td>39</td>\n",
       "      <td>0.79</td>\n",
       "      <td>0</td>\n",
       "      <td>1</td>\n",
       "      <td>1</td>\n",
       "      <td>0</td>\n",
       "    </tr>\n",
       "    <tr>\n",
       "      <th>5</th>\n",
       "      <td>164</td>\n",
       "      <td>91</td>\n",
       "      <td>67</td>\n",
       "      <td>2.4</td>\n",
       "      <td>20</td>\n",
       "      <td>70</td>\n",
       "      <td>141</td>\n",
       "      <td>122</td>\n",
       "      <td>86</td>\n",
       "      <td>32</td>\n",
       "      <td>39</td>\n",
       "      <td>0.82</td>\n",
       "      <td>0</td>\n",
       "      <td>1</td>\n",
       "      <td>1</td>\n",
       "      <td>0</td>\n",
       "    </tr>\n",
       "  </tbody>\n",
       "</table>\n",
       "</div>"
      ],
      "text/plain": [
       "                cholesterol  glucose  hdl_chol  chol_hdl_ratio  age  weight  \\\n",
       "patient_number                                                                \n",
       "1                       193       77        49             3.9   19      61   \n",
       "2                       146       79        41             3.6   19      60   \n",
       "3                       217       75        54             4.0   20      67   \n",
       "4                       226       97        70             3.2   20      64   \n",
       "5                       164       91        67             2.4   20      70   \n",
       "\n",
       "                height  systolic_bp  diastolic_bp  waist  hip  \\\n",
       "patient_number                                                  \n",
       "1                  119          118            70     32   38   \n",
       "2                  135          108            58     33   40   \n",
       "3                  187          110            72     40   45   \n",
       "4                  114          122            64     31   39   \n",
       "5                  141          122            86     32   39   \n",
       "\n",
       "                waist_hip_ratio  diabetes  bmi-binned  gender-female  \\\n",
       "patient_number                                                         \n",
       "1                          0.84         0           1              1   \n",
       "2                          0.83         0           2              1   \n",
       "3                          0.89         0           2              1   \n",
       "4                          0.79         0           1              1   \n",
       "5                          0.82         0           1              1   \n",
       "\n",
       "                gender-male  \n",
       "patient_number               \n",
       "1                         0  \n",
       "2                         0  \n",
       "3                         0  \n",
       "4                         0  \n",
       "5                         0  "
      ]
     },
     "execution_count": 29,
     "metadata": {},
     "output_type": "execute_result"
    }
   ],
   "source": [
    "import seaborn as sns\n",
    "df.head()"
   ]
  },
  {
   "cell_type": "code",
   "execution_count": 30,
   "id": "a0404045",
   "metadata": {},
   "outputs": [],
   "source": [
    "#sns.regplot(x=\"glucose\", y=\"diabetes\", data=df)"
   ]
  },
  {
   "cell_type": "markdown",
   "id": "aa6cc8fb",
   "metadata": {},
   "source": [
    "<h4>Categorical variable visualisation</h4>"
   ]
  },
  {
   "cell_type": "code",
   "execution_count": 31,
   "id": "5435fb94",
   "metadata": {},
   "outputs": [
    {
     "data": {
      "image/png": "[encoded data removed]",
      "text/plain": [
       "<Figure size 432x432 with 4 Axes>"
      ]
     },
     "metadata": {
      "needs_background": "light"
     },
     "output_type": "display_data"
    }
   ],
   "source": [
    "bins = np.linspace(df.cholesterol.min(), df.cholesterol.max(), 10)\n",
    "g = sns.FacetGrid(df, col=\"bmi-binned\", hue=\"diabetes\", palette=\"Set1\", col_wrap=2)\n",
    "g.map(plt.pyplot.hist, 'cholesterol', bins=bins, ec=\"k\")\n",
    "\n",
    "g.axes[-1].legend()\n",
    "plt.pyplot.show()"
   ]
  },
  {
   "cell_type": "markdown",
   "id": "b9da25c6",
   "metadata": {},
   "source": [
    "Obese and Overweight person more vulnerable to diabetes with uniform cholestrol distribution"
   ]
  },
  {
   "cell_type": "code",
   "execution_count": 32,
   "id": "daf5ceee",
   "metadata": {},
   "outputs": [
    {
     "name": "stdout",
     "output_type": "stream",
     "text": [
      "The Pearson Correlation Coefficient is 0.6890795038664441  with a P-value of P = 3.2051186585278832e-56\n"
     ]
    }
   ],
   "source": [
    "from scipy import stats\n",
    "pearson_coef, p_value = stats.pearsonr(df['glucose'], df['diabetes'])\n",
    "print(\"The Pearson Correlation Coefficient is\", pearson_coef, \" with a P-value of P =\", p_value)  "
   ]
  },
  {
   "cell_type": "code",
   "execution_count": 33,
   "id": "17438dce",
   "metadata": {},
   "outputs": [
    {
     "data": {
      "image/png": "[encoded data removed]",
      "text/plain": [
       "<Figure size 1440x360 with 1 Axes>"
      ]
     },
     "metadata": {
      "needs_background": "light"
     },
     "output_type": "display_data"
    }
   ],
   "source": [
    "# 그래프의 사이즈를 조절합니다.\n",
    "import matplotlib.pyplot as plt\n",
    "plt.figure(figsize=(20,5))\n",
    "\n",
    "# seaborn의 countplot 함수를 사용하여 출력합니다.\n",
    "sns.set(style='darkgrid')\n",
    "ax = sns.countplot(x='age', data=df, palette=\"Set2\")"
   ]
  },
  {
   "cell_type": "markdown",
   "id": "ecd8c180",
   "metadata": {},
   "source": [
    "Most data comes from age 35-40"
   ]
  },
  {
   "cell_type": "code",
   "execution_count": 34,
   "id": "96123eb1",
   "metadata": {},
   "outputs": [
    {
     "name": "stderr",
     "output_type": "stream",
     "text": [
      "C:\\Users\\Azrai Mahadan\\anaconda3\\lib\\site-packages\\seaborn\\distributions.py:2551: FutureWarning: `distplot` is a deprecated function and will be removed in a future version. Please adapt your code to use either `displot` (a figure-level function with similar flexibility) or `kdeplot` (an axes-level function for kernel density plots).\n",
      "  warnings.warn(msg, FutureWarning)\n",
      "C:\\Users\\Azrai Mahadan\\anaconda3\\lib\\site-packages\\seaborn\\distributions.py:2551: FutureWarning: `distplot` is a deprecated function and will be removed in a future version. Please adapt your code to use either `displot` (a figure-level function with similar flexibility) or `kdeplot` (an axes-level function for kernel density plots).\n",
      "  warnings.warn(msg, FutureWarning)\n",
      "C:\\Users\\Azrai Mahadan\\anaconda3\\lib\\site-packages\\seaborn\\distributions.py:2551: FutureWarning: `distplot` is a deprecated function and will be removed in a future version. Please adapt your code to use either `displot` (a figure-level function with similar flexibility) or `kdeplot` (an axes-level function for kernel density plots).\n",
      "  warnings.warn(msg, FutureWarning)\n"
     ]
    },
    {
     "data": {
      "image/png": "[encoded data removed]",
      "text/plain": [
       "<Figure size 432x288 with 1 Axes>"
      ]
     },
     "metadata": {},
     "output_type": "display_data"
    }
   ],
   "source": [
    "sns.distplot(df['age'], hist=False, label='ALL')\n",
    "sns.distplot(df[df['diabetes']==1]['age'], hist=False, label='1')\n",
    "sns.distplot(df[df['diabetes']==0]['age'], hist=False, label='0')\n",
    "\n",
    "plt.legend(title='Diabetes')\n",
    "plt.show()"
   ]
  },
  {
   "cell_type": "markdown",
   "id": "f042bd76",
   "metadata": {},
   "source": [
    "Middle-age(50-70) person are more vulnerable to diabetes"
   ]
  },
  {
   "cell_type": "code",
   "execution_count": 35,
   "id": "4bf5fdf1",
   "metadata": {},
   "outputs": [
    {
     "name": "stdout",
     "output_type": "stream",
     "text": [
      "[228 162]\n",
      "[34 26]\n"
     ]
    }
   ],
   "source": [
    "print(df['gender-male'].value_counts().sort_index().values)\n",
    "print(df[df['diabetes']==1]['gender-male'].value_counts().sort_index().values)"
   ]
  },
  {
   "cell_type": "markdown",
   "id": "8354b7e9",
   "metadata": {},
   "source": [
    "Make sure integer have no string"
   ]
  },
  {
   "cell_type": "code",
   "execution_count": 36,
   "id": "48158c3e",
   "metadata": {},
   "outputs": [],
   "source": [
    "#df[df['diabetes']==1]['bmi-binned']"
   ]
  },
  {
   "cell_type": "code",
   "execution_count": 37,
   "id": "d4fe10c6",
   "metadata": {},
   "outputs": [],
   "source": [
    "def multiplot(columns):\n",
    "    df_multi = pd.DataFrame({'ALL': df[columns].value_counts().sort_index().values,\n",
    "                          'Pos': df[df['diabetes']==1][columns].value_counts().sort_index().values,\n",
    "                          'Neg': df[df['diabetes']==0][columns].value_counts().sort_index().values\n",
    "                          }, index=df[columns].value_counts().sort_index().index)\n",
    "\n",
    "    df_multi.plot(kind='bar')\n",
    "    plt.legend(title='Diabetes')\n",
    "    plt.show()"
   ]
  },
  {
   "cell_type": "code",
   "execution_count": 38,
   "id": "48d09b27",
   "metadata": {},
   "outputs": [],
   "source": [
    "#multiplot('bmi-binned')"
   ]
  },
  {
   "cell_type": "code",
   "execution_count": 39,
   "id": "3f82b593",
   "metadata": {},
   "outputs": [
    {
     "data": {
      "image/png": "[encoded data removed]",
      "text/plain": [
       "<Figure size 432x288 with 1 Axes>"
      ]
     },
     "metadata": {},
     "output_type": "display_data"
    }
   ],
   "source": [
    "multiplot('gender-male')"
   ]
  },
  {
   "cell_type": "markdown",
   "id": "7901790f",
   "metadata": {},
   "source": [
    "Female(0) is slightly have higher possibilities to have diabetes but not significant"
   ]
  },
  {
   "cell_type": "markdown",
   "id": "1752beb4",
   "metadata": {},
   "source": [
    "<h4>Numerical variables visualisation</h4>"
   ]
  },
  {
   "cell_type": "code",
   "execution_count": 40,
   "id": "599cf42f",
   "metadata": {},
   "outputs": [
    {
     "data": {
      "text/html": [
       "<div>\n",
       "<style scoped>\n",
       "    .dataframe tbody tr th:only-of-type {\n",
       "        vertical-align: middle;\n",
       "    }\n",
       "\n",
       "    .dataframe tbody tr th {\n",
       "        vertical-align: top;\n",
       "    }\n",
       "\n",
       "    .dataframe thead th {\n",
       "        text-align: right;\n",
       "    }\n",
       "</style>\n",
       "<table border=\"1\" class=\"dataframe\">\n",
       "  <thead>\n",
       "    <tr style=\"text-align: right;\">\n",
       "      <th></th>\n",
       "      <th>cholesterol</th>\n",
       "      <th>glucose</th>\n",
       "      <th>hdl_chol</th>\n",
       "      <th>chol_hdl_ratio</th>\n",
       "      <th>age</th>\n",
       "      <th>weight</th>\n",
       "      <th>height</th>\n",
       "      <th>systolic_bp</th>\n",
       "      <th>diastolic_bp</th>\n",
       "      <th>waist</th>\n",
       "      <th>hip</th>\n",
       "      <th>waist_hip_ratio</th>\n",
       "      <th>diabetes</th>\n",
       "      <th>bmi-binned</th>\n",
       "      <th>gender-female</th>\n",
       "      <th>gender-male</th>\n",
       "    </tr>\n",
       "    <tr>\n",
       "      <th>patient_number</th>\n",
       "      <th></th>\n",
       "      <th></th>\n",
       "      <th></th>\n",
       "      <th></th>\n",
       "      <th></th>\n",
       "      <th></th>\n",
       "      <th></th>\n",
       "      <th></th>\n",
       "      <th></th>\n",
       "      <th></th>\n",
       "      <th></th>\n",
       "      <th></th>\n",
       "      <th></th>\n",
       "      <th></th>\n",
       "      <th></th>\n",
       "      <th></th>\n",
       "    </tr>\n",
       "  </thead>\n",
       "  <tbody>\n",
       "    <tr>\n",
       "      <th>1</th>\n",
       "      <td>193</td>\n",
       "      <td>77</td>\n",
       "      <td>49</td>\n",
       "      <td>3.9</td>\n",
       "      <td>19</td>\n",
       "      <td>61</td>\n",
       "      <td>119</td>\n",
       "      <td>118</td>\n",
       "      <td>70</td>\n",
       "      <td>32</td>\n",
       "      <td>38</td>\n",
       "      <td>0.84</td>\n",
       "      <td>0</td>\n",
       "      <td>1</td>\n",
       "      <td>1</td>\n",
       "      <td>0</td>\n",
       "    </tr>\n",
       "    <tr>\n",
       "      <th>2</th>\n",
       "      <td>146</td>\n",
       "      <td>79</td>\n",
       "      <td>41</td>\n",
       "      <td>3.6</td>\n",
       "      <td>19</td>\n",
       "      <td>60</td>\n",
       "      <td>135</td>\n",
       "      <td>108</td>\n",
       "      <td>58</td>\n",
       "      <td>33</td>\n",
       "      <td>40</td>\n",
       "      <td>0.83</td>\n",
       "      <td>0</td>\n",
       "      <td>2</td>\n",
       "      <td>1</td>\n",
       "      <td>0</td>\n",
       "    </tr>\n",
       "    <tr>\n",
       "      <th>3</th>\n",
       "      <td>217</td>\n",
       "      <td>75</td>\n",
       "      <td>54</td>\n",
       "      <td>4.0</td>\n",
       "      <td>20</td>\n",
       "      <td>67</td>\n",
       "      <td>187</td>\n",
       "      <td>110</td>\n",
       "      <td>72</td>\n",
       "      <td>40</td>\n",
       "      <td>45</td>\n",
       "      <td>0.89</td>\n",
       "      <td>0</td>\n",
       "      <td>2</td>\n",
       "      <td>1</td>\n",
       "      <td>0</td>\n",
       "    </tr>\n",
       "  </tbody>\n",
       "</table>\n",
       "</div>"
      ],
      "text/plain": [
       "                cholesterol  glucose  hdl_chol  chol_hdl_ratio  age  weight  \\\n",
       "patient_number                                                                \n",
       "1                       193       77        49             3.9   19      61   \n",
       "2                       146       79        41             3.6   19      60   \n",
       "3                       217       75        54             4.0   20      67   \n",
       "\n",
       "                height  systolic_bp  diastolic_bp  waist  hip  \\\n",
       "patient_number                                                  \n",
       "1                  119          118            70     32   38   \n",
       "2                  135          108            58     33   40   \n",
       "3                  187          110            72     40   45   \n",
       "\n",
       "                waist_hip_ratio  diabetes  bmi-binned  gender-female  \\\n",
       "patient_number                                                         \n",
       "1                          0.84         0           1              1   \n",
       "2                          0.83         0           2              1   \n",
       "3                          0.89         0           2              1   \n",
       "\n",
       "                gender-male  \n",
       "patient_number               \n",
       "1                         0  \n",
       "2                         0  \n",
       "3                         0  "
      ]
     },
     "execution_count": 40,
     "metadata": {},
     "output_type": "execute_result"
    }
   ],
   "source": [
    "df.head(3)"
   ]
  },
  {
   "cell_type": "code",
   "execution_count": 41,
   "id": "522adc8d",
   "metadata": {},
   "outputs": [
    {
     "data": {
      "text/plain": [
       "{'whiskers': [<matplotlib.lines.Line2D at 0x218738e65e0>,\n",
       "  <matplotlib.lines.Line2D at 0x218738e67f0>],\n",
       " 'caps': [<matplotlib.lines.Line2D at 0x218738e6eb0>,\n",
       "  <matplotlib.lines.Line2D at 0x218738e6100>],\n",
       " 'boxes': [<matplotlib.lines.Line2D at 0x218738db730>],\n",
       " 'medians': [<matplotlib.lines.Line2D at 0x2187389cbe0>],\n",
       " 'fliers': [<matplotlib.lines.Line2D at 0x2187389cb20>],\n",
       " 'means': []}"
      ]
     },
     "execution_count": 41,
     "metadata": {},
     "output_type": "execute_result"
    },
    {
     "data": {
      "image/png": "[encoded data removed]",
      "text/plain": [
       "<Figure size 432x288 with 1 Axes>"
      ]
     },
     "metadata": {},
     "output_type": "display_data"
    }
   ],
   "source": [
    "plt.boxplot(df['cholesterol'])"
   ]
  },
  {
   "cell_type": "code",
   "execution_count": 42,
   "id": "97d7c6df",
   "metadata": {},
   "outputs": [
    {
     "data": {
      "text/plain": [
       "<AxesSubplot:xlabel='diabetes', ylabel='cholesterol'>"
      ]
     },
     "execution_count": 42,
     "metadata": {},
     "output_type": "execute_result"
    },
    {
     "data": {
      "image/png": "[encoded data removed]",
      "text/plain": [
       "<Figure size 432x288 with 1 Axes>"
      ]
     },
     "metadata": {},
     "output_type": "display_data"
    }
   ],
   "source": [
    "sns.boxplot(x='diabetes', y='cholesterol', data=df)"
   ]
  },
  {
   "cell_type": "markdown",
   "id": "92180689",
   "metadata": {},
   "source": [
    "More cholestrol more vulnerable to diabetes"
   ]
  },
  {
   "cell_type": "code",
   "execution_count": 43,
   "id": "b663756a",
   "metadata": {},
   "outputs": [
    {
     "data": {
      "text/plain": [
       "<AxesSubplot:xlabel='diabetes', ylabel='glucose'>"
      ]
     },
     "execution_count": 43,
     "metadata": {},
     "output_type": "execute_result"
    },
    {
     "data": {
      "image/png": "[encoded data removed]",
      "text/plain": [
       "<Figure size 432x288 with 1 Axes>"
      ]
     },
     "metadata": {},
     "output_type": "display_data"
    }
   ],
   "source": [
    "sns.boxplot(x='diabetes', y='glucose', data=df)"
   ]
  },
  {
   "cell_type": "markdown",
   "id": "1af9f3f3",
   "metadata": {},
   "source": [
    "Obviously high glucose = high possibilities diabetes</br>\n",
    "An important feature"
   ]
  },
  {
   "cell_type": "code",
   "execution_count": 44,
   "id": "3aec05a4",
   "metadata": {},
   "outputs": [
    {
     "data": {
      "text/plain": [
       "<AxesSubplot:xlabel='diabetes', ylabel='hdl_chol'>"
      ]
     },
     "execution_count": 44,
     "metadata": {},
     "output_type": "execute_result"
    },
    {
     "data": {
      "image/png": "[encoded data removed]",
      "text/plain": [
       "<Figure size 432x288 with 1 Axes>"
      ]
     },
     "metadata": {},
     "output_type": "display_data"
    }
   ],
   "source": [
    "sns.boxplot(x='diabetes', y='hdl_chol', data=df)"
   ]
  },
  {
   "cell_type": "code",
   "execution_count": 45,
   "id": "cd1851b8",
   "metadata": {},
   "outputs": [
    {
     "data": {
      "text/plain": [
       "<AxesSubplot:xlabel='diabetes', ylabel='chol_hdl_ratio'>"
      ]
     },
     "execution_count": 45,
     "metadata": {},
     "output_type": "execute_result"
    },
    {
     "data": {
      "image/png": "[encoded data removed]",
      "text/plain": [
       "<Figure size 432x288 with 1 Axes>"
      ]
     },
     "metadata": {},
     "output_type": "display_data"
    }
   ],
   "source": [
    "sns.boxplot(x='diabetes', y='chol_hdl_ratio', data=df)"
   ]
  },
  {
   "cell_type": "code",
   "execution_count": 46,
   "id": "e183508e",
   "metadata": {
    "scrolled": true
   },
   "outputs": [
    {
     "data": {
      "text/plain": [
       "<AxesSubplot:xlabel='diabetes', ylabel='waist_hip_ratio'>"
      ]
     },
     "execution_count": 46,
     "metadata": {},
     "output_type": "execute_result"
    },
    {
     "data": {
      "image/png": "[encoded data removed]",
      "text/plain": [
       "<Figure size 432x288 with 1 Axes>"
      ]
     },
     "metadata": {},
     "output_type": "display_data"
    }
   ],
   "source": [
    "sns.boxplot(x='diabetes', y='waist_hip_ratio', data=df)"
   ]
  },
  {
   "cell_type": "markdown",
   "id": "c81ebda3",
   "metadata": {},
   "source": [
    "<h3>Model Development</h3>"
   ]
  },
  {
   "cell_type": "code",
   "execution_count": 47,
   "id": "aba0bb6b",
   "metadata": {},
   "outputs": [
    {
     "data": {
      "text/plain": [
       "array([[193.,  77.,  49., ...,   1.,   1.,   0.],\n",
       "       [146.,  79.,  41., ...,   2.,   1.,   0.],\n",
       "       [217.,  75.,  54., ...,   2.,   1.,   0.],\n",
       "       ...,\n",
       "       [301.,  90., 118., ...,   1.,   1.,   0.],\n",
       "       [232., 184., 114., ...,   1.,   1.,   0.],\n",
       "       [165.,  94.,  69., ...,   3.,   1.,   0.]])"
      ]
     },
     "execution_count": 47,
     "metadata": {},
     "output_type": "execute_result"
    }
   ],
   "source": [
    "x = df.drop(columns = ['diabetes']).to_numpy()\n",
    "x"
   ]
  },
  {
   "cell_type": "code",
   "execution_count": 48,
   "id": "c787c826",
   "metadata": {},
   "outputs": [
    {
     "data": {
      "text/plain": [
       "array([0, 0, 0, 0, 0, 0, 0, 0, 0, 0, 0, 0, 0, 0, 0, 0, 0, 0, 0, 0, 0, 0,\n",
       "       0, 0, 0, 0, 0, 0, 0, 0, 0, 0, 0, 0, 0, 0, 0, 0, 0, 0, 1, 0, 0, 0,\n",
       "       0, 0, 0, 0, 0, 0, 0, 0, 0, 0, 0, 0, 0, 0, 0, 0, 0, 0, 0, 0, 1, 0,\n",
       "       0, 0, 0, 0, 0, 0, 0, 0, 0, 0, 0, 0, 0, 0, 0, 0, 1, 0, 0, 0, 0, 0,\n",
       "       0, 0, 0, 0, 0, 0, 0, 0, 0, 0, 0, 0, 0, 0, 0, 0, 0, 0, 0, 0, 0, 0,\n",
       "       0, 0, 0, 0, 0, 0, 0, 1, 0, 0, 0, 0, 0, 0, 0, 0, 0, 0, 0, 0, 0, 0,\n",
       "       0, 0, 0, 0, 0, 0, 0, 1, 0, 0, 0, 0, 0, 0, 0, 0, 0, 0, 0, 0, 0, 0,\n",
       "       0, 0, 0, 1, 0, 0, 0, 0, 0, 0, 0, 0, 0, 0, 0, 0, 0, 0, 0, 0, 0, 0,\n",
       "       0, 0, 0, 0, 0, 0, 0, 0, 0, 0, 0, 0, 1, 0, 0, 0, 0, 0, 1, 0, 0, 0,\n",
       "       0, 0, 0, 0, 1, 0, 0, 0, 0, 0, 0, 0, 0, 0, 1, 1, 0, 0, 0, 0, 0, 0,\n",
       "       0, 0, 0, 1, 1, 0, 0, 0, 0, 0, 0, 0, 0, 1, 1, 0, 0, 0, 0, 0, 1, 1,\n",
       "       1, 0, 0, 0, 0, 0, 0, 0, 1, 0, 0, 0, 0, 1, 1, 0, 0, 0, 0, 0, 0, 0,\n",
       "       0, 0, 0, 0, 1, 0, 0, 1, 1, 0, 0, 1, 0, 0, 0, 0, 0, 1, 0, 0, 0, 0,\n",
       "       1, 1, 1, 1, 0, 0, 0, 0, 0, 0, 0, 1, 1, 1, 0, 0, 0, 0, 0, 1, 1, 0,\n",
       "       0, 0, 1, 1, 0, 0, 0, 0, 0, 0, 0, 0, 1, 1, 1, 0, 0, 1, 1, 1, 0, 0,\n",
       "       0, 0, 1, 1, 0, 0, 0, 0, 0, 1, 1, 0, 0, 0, 1, 0, 0, 0, 0, 0, 0, 0,\n",
       "       1, 1, 0, 0, 0, 1, 0, 0, 0, 1, 0, 1, 0, 0, 1, 0, 1, 0, 0, 0, 0, 1,\n",
       "       0, 0, 0, 0, 0, 1, 0, 1, 0, 0, 0, 0, 1, 0, 1, 0], dtype=int64)"
      ]
     },
     "execution_count": 48,
     "metadata": {},
     "output_type": "execute_result"
    }
   ],
   "source": [
    "y = df['diabetes'].values\n",
    "y"
   ]
  },
  {
   "cell_type": "code",
   "execution_count": 49,
   "id": "150ce550",
   "metadata": {},
   "outputs": [
    {
     "data": {
      "text/plain": [
       "array([[-0.31901328, -0.5646553 , -0.07340058, ..., -1.20770934,\n",
       "         0.84292723, -0.84292723],\n",
       "       [-1.37261932, -0.52743157, -0.5369832 , ..., -0.05610386,\n",
       "         0.84292723, -0.84292723],\n",
       "       [ 0.21899831, -0.60187902,  0.21633855, ..., -0.05610386,\n",
       "         0.84292723, -0.84292723],\n",
       "       ...,\n",
       "       [ 2.10203888, -0.32270108,  3.92499948, ..., -1.20770934,\n",
       "         0.84292723, -0.84292723],\n",
       "       [ 0.55525555,  1.42681407,  3.69320817, ..., -1.20770934,\n",
       "         0.84292723, -0.84292723],\n",
       "       [-0.94669348, -0.24825362,  1.08555596, ...,  1.09550163,\n",
       "         0.84292723, -0.84292723]])"
      ]
     },
     "execution_count": 49,
     "metadata": {},
     "output_type": "execute_result"
    }
   ],
   "source": [
    "from sklearn import preprocessing\n",
    "x= preprocessing.StandardScaler().fit(x).transform(x)\n",
    "x"
   ]
  },
  {
   "cell_type": "code",
   "execution_count": 50,
   "id": "d113da27",
   "metadata": {},
   "outputs": [],
   "source": [
    "from sklearn.model_selection import train_test_split\n",
    "\n",
    "# sklearn에서 제공하는 train_test_split을 사용하여 손 쉽게 분리 할 수 있습니다.\n",
    "x_train, x_test, y_train, y_test = train_test_split(x, y, test_size = 0.2, random_state = 0)"
   ]
  },
  {
   "cell_type": "code",
   "execution_count": 51,
   "id": "9d7d638e",
   "metadata": {
    "scrolled": true
   },
   "outputs": [
    {
     "name": "stdout",
     "output_type": "stream",
     "text": [
      "1.0\n",
      "0.8589743589743589\n"
     ]
    }
   ],
   "source": [
    "from sklearn.tree import DecisionTreeClassifier\n",
    "\n",
    "# 의사결정 모델 class를 가져 옵니다.\n",
    "# max_iter는 로지스틱 알고리즘의 반복 횟수를 조정하는 파라미터로 본 실습에서는 default 값으로는 모자르기에 아래와 같이 설정함\n",
    "model = DecisionTreeClassifier()\n",
    "\n",
    "# fit 함수를 사용하여 데이터를 학습합니다.\n",
    "model.fit(x_train, y_train)\n",
    "\n",
    "# score 함수를 사용하여 모델의 성능을 출력합니다.\n",
    "print(model.score(x_train, y_train))\n",
    "print(model.score(x_test, y_test))"
   ]
  },
  {
   "cell_type": "markdown",
   "id": "25830e82",
   "metadata": {},
   "source": [
    "Use various ML algoritm to train the model"
   ]
  },
  {
   "cell_type": "code",
   "execution_count": 52,
   "id": "ac66175b",
   "metadata": {
    "scrolled": true
   },
   "outputs": [
    {
     "name": "stdout",
     "output_type": "stream",
     "text": [
      "LR - train_score : 0.923077, test score : 0.910256\n",
      "LDA - train_score : 0.929487, test score : 0.910256\n",
      "KNN - train_score : 0.916667, test score : 0.871795\n",
      "NB - train_score : 0.910256, test score : 0.910256\n",
      "RF - train_score : 1.000000, test score : 0.923077\n",
      "SVM - train_score : 0.939103, test score : 0.923077\n",
      "[23:18:52] WARNING: C:/Users/Administrator/workspace/xgboost-win64_release_1.5.1/src/learner.cc:1115: Starting in XGBoost 1.3.0, the default evaluation metric used with the objective 'binary:logistic' was changed from 'error' to 'logloss'. Explicitly set eval_metric if you'd like to restore the old behavior.\n",
      "XGB - train_score : 1.000000, test score : 0.897436\n"
     ]
    },
    {
     "name": "stderr",
     "output_type": "stream",
     "text": [
      "C:\\Users\\Azrai Mahadan\\anaconda3\\lib\\site-packages\\xgboost\\sklearn.py:1224: UserWarning: The use of label encoder in XGBClassifier is deprecated and will be removed in a future release. To remove this warning, do the following: 1) Pass option use_label_encoder=False when constructing XGBClassifier object; and 2) Encode your labels (y) as integers starting with 0, i.e. 0, 1, 2, ..., [num_class - 1].\n",
      "  warnings.warn(label_encoder_deprecation_msg, UserWarning)\n"
     ]
    }
   ],
   "source": [
    "from sklearn.linear_model import LogisticRegression\n",
    "from sklearn.discriminant_analysis import LinearDiscriminantAnalysis\n",
    "from sklearn.neighbors import KNeighborsClassifier\n",
    "from sklearn.naive_bayes import GaussianNB\n",
    "from sklearn.ensemble import RandomForestClassifier\n",
    "from sklearn.svm import SVC\n",
    "import xgboost as xgb\n",
    "from xgboost.sklearn import XGBClassifier\n",
    "\n",
    "\n",
    "models = []\n",
    "models.append(('LR', LogisticRegression(max_iter =5000))) # 로지스틱 분류기 \n",
    "models.append(('LDA', LinearDiscriminantAnalysis()))  # LDA 모델\n",
    "models.append(('KNN', KNeighborsClassifier()))  # KNN 모델\n",
    "models.append(('NB', GaussianNB()))  # 가우시안 나이브 베이즈 모델\n",
    "models.append(('RF', RandomForestClassifier()))  # 랜덤포레스트 모델\n",
    "models.append(('SVM', SVC(gamma='auto')))  # SVM 모델\n",
    "models.append(('XGB', XGBClassifier()))  # XGB 모델\n",
    "\n",
    "for name, model in models:\n",
    "    model.fit(x_train, y_train)\n",
    "    msg = \"%s - train_score : %f, test score : %f\" % (name, model.score(x_train, y_train), model.score(x_test, y_test))\n",
    "    print(msg)"
   ]
  },
  {
   "cell_type": "code",
   "execution_count": 53,
   "id": "38127b63",
   "metadata": {},
   "outputs": [
    {
     "data": {
      "image/png": "[encoded data removed]",
      "text/plain": [
       "<Figure size 432x288 with 1 Axes>"
      ]
     },
     "metadata": {},
     "output_type": "display_data"
    }
   ],
   "source": [
    "max_num_features = 10\n",
    "ax = xgb.plot_importance(models[-1][1], height = 1, grid = True, importance_type = 'gain', show_values = False, max_num_features = max_num_features)\n",
    "\n",
    "ytick = ax.get_yticklabels()\n",
    "feature_importance = []\n",
    "for i in range(max_num_features):\n",
    "    feature_importance.append(df.drop(columns=['diabetes']).columns[int(ytick[i].get_text().split('f')[1])])\n",
    "\n",
    "ax.set_yticklabels(feature_importance)\n",
    "\n",
    "plt.rcParams['figure.figsize'] = (10, 15)\n",
    "plt.xlabel('The F-Score for each features')\n",
    "plt.ylabel('Importances')\n",
    "plt.show()"
   ]
  },
  {
   "cell_type": "code",
   "execution_count": 54,
   "id": "e6659fa8",
   "metadata": {
    "scrolled": true
   },
   "outputs": [
    {
     "data": {
      "text/plain": [
       "array([0.88461538, 0.84615385, 0.88461538, 0.87179487, 0.87179487,\n",
       "       0.85897436, 0.87179487, 0.84615385, 0.84615385, 0.84615385,\n",
       "       0.84615385, 0.84615385, 0.84615385, 0.83333333, 0.84615385,\n",
       "       0.83333333, 0.84615385, 0.84615385, 0.84615385, 0.83333333,\n",
       "       0.84615385, 0.84615385, 0.84615385, 0.83333333, 0.83333333,\n",
       "       0.83333333, 0.83333333, 0.83333333, 0.83333333, 0.83333333,\n",
       "       0.83333333, 0.83333333, 0.83333333, 0.83333333, 0.83333333,\n",
       "       0.83333333, 0.83333333, 0.83333333, 0.83333333, 0.83333333,\n",
       "       0.83333333, 0.83333333, 0.83333333, 0.82051282, 0.82051282,\n",
       "       0.82051282, 0.82051282, 0.82051282, 0.82051282])"
      ]
     },
     "execution_count": 54,
     "metadata": {},
     "output_type": "execute_result"
    }
   ],
   "source": [
    "#Use KNN model \n",
    "from sklearn import metrics\n",
    "\n",
    "Ks = 50\n",
    "mean_acc = np.zeros((Ks-1))\n",
    "std_acc = np.zeros((Ks-1))\n",
    "\n",
    "for n in range(1,Ks):\n",
    "    \n",
    "    #Train Model and Predict  \n",
    "    neigh_model = KNeighborsClassifier(n_neighbors = n).fit(x_train,y_train)\n",
    "    yhat=neigh_model.predict(x_test)\n",
    "    mean_acc[n-1] = metrics.accuracy_score(y_test, yhat)\n",
    "\n",
    "    \n",
    "    std_acc[n-1]=np.std(yhat==y_test)/np.sqrt(yhat.shape[0])\n",
    "\n",
    "mean_acc"
   ]
  },
  {
   "cell_type": "code",
   "execution_count": 55,
   "id": "5e9abc90",
   "metadata": {},
   "outputs": [
    {
     "data": {
      "text/plain": [
       "Text(0, 0.5, 'Cross-Validated Accuracy')"
      ]
     },
     "execution_count": 55,
     "metadata": {},
     "output_type": "execute_result"
    },
    {
     "data": {
      "image/png": "[encoded data removed]",
      "text/plain": [
       "<Figure size 720x1080 with 1 Axes>"
      ]
     },
     "metadata": {},
     "output_type": "display_data"
    }
   ],
   "source": [
    "k_range = range(1, Ks)\n",
    "plt.plot(k_range, mean_acc)\n",
    "plt.xlabel('Value of K for KNN')\n",
    "plt.ylabel('Cross-Validated Accuracy')"
   ]
  },
  {
   "cell_type": "code",
   "execution_count": 56,
   "id": "8422fdb9",
   "metadata": {},
   "outputs": [
    {
     "name": "stdout",
     "output_type": "stream",
     "text": [
      "The best accuracy was with 0.8846153846153846 with k= 1\n"
     ]
    }
   ],
   "source": [
    "print( \"The best accuracy was with\", mean_acc.max(), \"with k=\", mean_acc.argmax()+1)"
   ]
  },
  {
   "cell_type": "markdown",
   "id": "40e57c96",
   "metadata": {},
   "source": [
    "K=1 maybe lead to overfit and make the model sensitive to outliers and noise"
   ]
  },
  {
   "cell_type": "markdown",
   "id": "f12e986f",
   "metadata": {},
   "source": [
    "#### Model Tuning\n",
    "To prevent overfitting"
   ]
  },
  {
   "cell_type": "code",
   "execution_count": 57,
   "id": "057c6183",
   "metadata": {},
   "outputs": [
    {
     "name": "stdout",
     "output_type": "stream",
     "text": [
      "0.8942307692307693\n",
      "0.8589743589743589\n"
     ]
    }
   ],
   "source": [
    "from sklearn.model_selection import GridSearchCV\n",
    "from sklearn.model_selection import KFold\n",
    "\n",
    "# 성능 비교에 필요한 모델 파라미터들을 정의합니다.\n",
    "parameters = dict(n_neighbors=k_range)\n",
    "\n",
    "# 5개의 fold를 구성합니다.\n",
    "cv = KFold(n_splits=5)\n",
    "# 의사결정트리 모델을 튜닝하기 위하여 선언합니다.\n",
    "DT = KNeighborsClassifier()\n",
    "\n",
    "# 모델 튜닝을 우해서 GridSearchCV를 사용합니다.\n",
    "DT_CV = GridSearchCV(DT, parameters, scoring = 'accuracy', cv = cv, n_jobs= -1)\n",
    "# 학습을 수행합니다.\n",
    "DT_CV.fit(x_train, y_train)\n",
    "\n",
    "# 결과를 출력합니다.\n",
    "print(DT_CV.score(x_train, y_train))\n",
    "print(DT_CV.score(x_test, y_test))"
   ]
  },
  {
   "cell_type": "code",
   "execution_count": 58,
   "id": "cc1bc981",
   "metadata": {},
   "outputs": [
    {
     "data": {
      "text/plain": [
       "{'n_neighbors': 6}"
      ]
     },
     "execution_count": 58,
     "metadata": {},
     "output_type": "execute_result"
    }
   ],
   "source": [
    "DT_CV.best_params_"
   ]
  },
  {
   "cell_type": "code",
   "execution_count": 59,
   "id": "950e4bc2",
   "metadata": {},
   "outputs": [
    {
     "data": {
      "text/plain": [
       "0.8589743589743589"
      ]
     },
     "execution_count": 59,
     "metadata": {},
     "output_type": "execute_result"
    }
   ],
   "source": [
    "# 가장 성능이 좋았던 파라미터로 수행한 모델을 저장합니다.\n",
    "best_DT_CV = DT_CV.best_estimator_\n",
    "\n",
    "# 가장 좋은 성능을 보여준 모델의 결과를 출력합니다.\n",
    "best_DT_CV.score(x_test, y_test)"
   ]
  },
  {
   "cell_type": "markdown",
   "id": "90abf5a7",
   "metadata": {},
   "source": [
    "#### Confusion matrix"
   ]
  },
  {
   "cell_type": "code",
   "execution_count": 60,
   "id": "bd1d3478",
   "metadata": {},
   "outputs": [
    {
     "data": {
      "image/png": "[encoded data removed]",
      "text/plain": [
       "<Figure size 360x360 with 2 Axes>"
      ]
     },
     "metadata": {},
     "output_type": "display_data"
    },
    {
     "data": {
      "text/plain": [
       "array([[64,  0],\n",
       "       [11,  3]], dtype=int64)"
      ]
     },
     "execution_count": 60,
     "metadata": {},
     "output_type": "execute_result"
    }
   ],
   "source": [
    "from sklearn.metrics import confusion_matrix\n",
    "\n",
    "model_prediction = best_DT_CV.predict(x_test)\n",
    "\n",
    "# sklearn에서 제공하는 confusion_matrix를 사용합니다.\n",
    "cm = confusion_matrix(y_test, model_prediction)\n",
    "\n",
    "# 출력 파트 - seaborn의 heatmap을 사용\n",
    "plt.rcParams['figure.figsize'] = (5, 5)\n",
    "sns.set(style = 'dark', font_scale = 1.4)\n",
    "ax = sns.heatmap(cm, annot=True)\n",
    "plt.xlabel('Prediction')\n",
    "plt.ylabel('Real Data')\n",
    "plt.show()\n",
    "cm"
   ]
  },
  {
   "cell_type": "code",
   "execution_count": 61,
   "id": "fe564483",
   "metadata": {},
   "outputs": [
    {
     "name": "stdout",
     "output_type": "stream",
     "text": [
      "Recall score: 0.21428571428571427\n",
      "Precision score: 1.0\n"
     ]
    }
   ],
   "source": [
    "from sklearn.metrics import recall_score\n",
    "from sklearn.metrics import precision_score\n",
    "\n",
    "print(\"Recall score: {}\".format(recall_score(y_test, model_prediction)))\n",
    "print(\"Precision score: {}\".format(precision_score(y_test, model_prediction)))"
   ]
  },
  {
   "cell_type": "markdown",
   "id": "d230a48d",
   "metadata": {},
   "source": [
    "Maybe there are some problems with imbalanced data"
   ]
  },
  {
   "cell_type": "code",
   "execution_count": 64,
   "id": "9f6ab6d8",
   "metadata": {},
   "outputs": [
    {
     "name": "stdout",
     "output_type": "stream",
     "text": [
      "Avg F1-score: 0.8189\n",
      "Jaccard score: 0.8533\n",
      "Model's Accuracy:  0.8589743589743589\n"
     ]
    }
   ],
   "source": [
    "print(\"Avg F1-score: %.4f\" % metrics.f1_score(y_test, model_prediction, average='weighted'))\n",
    "print(\"Jaccard score: %.4f\" % metrics.jaccard_score(y_test, model_prediction,pos_label=0))\n",
    "print(\"Model's Accuracy: \", metrics.accuracy_score(y_test, model_prediction))"
   ]
  },
  {
   "cell_type": "code",
   "execution_count": null,
   "id": "07a730c5",
   "metadata": {},
   "outputs": [],
   "source": []
  }
 ],
 "metadata": {
  "kernelspec": {
   "display_name": "Python 3 (ipykernel)",
   "language": "python",
   "name": "python3"
  },
  "language_info": {
   "codemirror_mode": {
    "name": "ipython",
    "version": 3
   },
   "file_extension": ".py",
   "mimetype": "text/x-python",
   "name": "python",
   "nbconvert_exporter": "python",
   "pygments_lexer": "ipython3",
   "version": "3.9.7"
  }
 },
 "nbformat": 4,
 "nbformat_minor": 5
}
